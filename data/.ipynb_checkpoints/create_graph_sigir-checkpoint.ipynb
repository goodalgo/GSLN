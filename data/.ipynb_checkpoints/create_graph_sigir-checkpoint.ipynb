{
 "cells": [
  {
   "cell_type": "code",
   "execution_count": 1,
   "metadata": {
    "uuid": "423951f9-0860-4984-af2b-aa85ac11f41a"
   },
   "outputs": [
    {
     "name": "stderr",
     "output_type": "stream",
     "text": [
      "Using backend: pytorch\n"
     ]
    }
   ],
   "source": [
    "import dgl\n",
    "from dgl.data.utils import load_graphs,save_graphs"
   ]
  },
  {
   "cell_type": "code",
   "execution_count": 2,
   "metadata": {
    "uuid": "5d127a39-d0c7-41d2-8b62-5e9b5f3b3a20"
   },
   "outputs": [
    {
     "name": "stderr",
     "output_type": "stream",
     "text": [
      "/home/pai/lib/python3.6/site-packages/dgl/base.py:45: DGLWarning: Recommend creating graphs by `dgl.graph(data)` instead of `dgl.DGLGraph(data)`.\n",
      "  return warnings.warn(message, category=category, stacklevel=1)\n"
     ]
    }
   ],
   "source": [
    "g = dgl.DGLGraph()"
   ]
  },
  {
   "cell_type": "code",
   "execution_count": 3,
   "metadata": {
    "uuid": "7c59ef34-6f42-47b1-8da6-0c091431ae3d"
   },
   "outputs": [],
   "source": [
    "import pandas as pd\n",
    "import numpy as np"
   ]
  },
  {
   "cell_type": "code",
   "execution_count": 5,
   "metadata": {
    "uuid": "afd1e023-cc32-4b43-9150-bb59f09e16ee"
   },
   "outputs": [
    {
     "name": "stderr",
     "output_type": "stream",
     "text": [
      "b'Skipping line 14307: expected 7 fields, saw 8\\nSkipping line 57712: expected 7 fields, saw 8\\nSkipping line 87442: expected 7 fields, saw 10\\nSkipping line 92025: expected 7 fields, saw 8\\nSkipping line 92866: expected 7 fields, saw 8\\nSkipping line 99453: expected 7 fields, saw 8\\n'\n",
      "b'Skipping line 13557: expected 8 fields, saw 11\\n'\n",
      "b'Skipping line 86522: expected 8 fields, saw 9\\nSkipping line 99044: expected 8 fields, saw 11\\nSkipping line 103679: expected 8 fields, saw 11\\n'\n",
      "b'Skipping line 142723: expected 8 fields, saw 9\\nSkipping line 143744: expected 8 fields, saw 11\\nSkipping line 156407: expected 8 fields, saw 9\\n'\n",
      "b'Skipping line 201386: expected 8 fields, saw 9\\nSkipping line 248470: expected 8 fields, saw 9\\n'\n"
     ]
    },
    {
     "name": "stdout",
     "output_type": "stream",
     "text": [
      "(99662, 7)\n"
     ]
    }
   ],
   "source": [
    "nodes_feat= pd.read_csv('news_graph_effect_node_feat_dl.csv', header=0, sep='\\t',dtype={'node_ori_id': str}, error_bad_lines=False)\n",
    "merge_edges= pd.read_csv('effect_news_rela_filter_dl.csv', header=0, sep='\\t', dtype={'src_id': str, 'dst_id': str},  error_bad_lines=False)[['src_id','dst_id']]\n",
    "\n",
    "# nodes_feat = nodes_feat.rename(columns={'node_id':'node_id_ori'})\n",
    "\n",
    "nodes_feat= pd.DataFrame(nodes_feat, dtype='str')  \n",
    "merge_edges = pd.DataFrame(merge_edges, dtype='str')  \n",
    "\n",
    "print(nodes_feat.shape)\n",
    "print(merge_edges.shape)"
   ]
  },
  {
   "cell_type": "code",
   "execution_count": 5,
   "metadata": {},
   "outputs": [
    {
     "name": "stdout",
     "output_type": "stream",
     "text": [
      "Index(['node_ori_id', 'deg_sum', 'title', 'content_merge', 'sentiment_label',\n",
      "       'multilabel', 'news_code'],\n",
      "      dtype='object')\n"
     ]
    }
   ],
   "source": [
    "print(nodes_feat.columns)"
   ]
  },
  {
   "cell_type": "code",
   "execution_count": 6,
   "metadata": {},
   "outputs": [],
   "source": [
    "import pandas as pd\n",
    "import networkx as nx\n",
    "G_nx = nx.from_pandas_edgelist(merge_edges, 'src_id', 'dst_id', edge_attr=True, create_using=nx.Graph())"
   ]
  },
  {
   "cell_type": "code",
   "execution_count": null,
   "metadata": {},
   "outputs": [],
   "source": []
  },
  {
   "cell_type": "code",
   "execution_count": 7,
   "metadata": {},
   "outputs": [],
   "source": [
    "node_idx_dict = {}\n",
    "for idx, node in enumerate(G_nx.nodes()):\n",
    "    node_idx_dict[idx] = node\n",
    "#     G_nx.nodes[node]['node_id_ori'] = str(node)\n",
    "\n",
    "node_idx_df = pd.DataFrame.from_dict(node_idx_dict, orient='index', columns= [\"node_ori\"])\n",
    "node_idx_df = node_idx_df.reset_index().rename(columns = {'index':'node_id'})\n",
    "\n",
    "node_feat_join_df = pd.merge(left=node_idx_df, right=nodes_feat, how='left', left_on='node_ori', right_on='node_ori_id')\n"
   ]
  },
  {
   "cell_type": "code",
   "execution_count": 8,
   "metadata": {},
   "outputs": [
    {
     "name": "stdout",
     "output_type": "stream",
     "text": [
      "194423 256871 (194423, 2) (194423, 9)\n",
      "Index(['node_id', 'node_ori', 'node_ori_id', 'deg_sum', 'title',\n",
      "       'content_merge', 'sentiment_label', 'multilabel', 'news_code'],\n",
      "      dtype='object')\n"
     ]
    }
   ],
   "source": [
    "# print(node_feat_join_df)\n",
    "print(len(G_nx.nodes()), len(G_nx.edges()), node_idx_df.shape, node_feat_join_df.shape)\n",
    "print(node_feat_join_df.columns)"
   ]
  },
  {
   "cell_type": "code",
   "execution_count": null,
   "metadata": {
    "uuid": "df8fd2fd-77e4-40c4-bbfe-1bc0823c42f7"
   },
   "outputs": [],
   "source": []
  },
  {
   "cell_type": "code",
   "execution_count": 9,
   "metadata": {},
   "outputs": [],
   "source": [
    "dgl_graph_from_nx = dgl.from_networkx(G_nx)\n",
    "save_graphs(\"dglgraphs/merge_graph_sigir\", [dgl_graph_from_nx])"
   ]
  },
  {
   "cell_type": "code",
   "execution_count": 10,
   "metadata": {},
   "outputs": [],
   "source": [
    "node_feat_join_df = node_feat_join_df.fillna(\"-\")\n",
    "node_feat_join_df.to_csv('ndatas/node_feat_sigir.csv', sep='\\t', index=0, columns=['node_id', 'node_ori', 'node_ori_id', 'deg_sum', 'title',\n",
    "       'content_merge', 'sentiment_label', 'multilabel', 'news_code'])"
   ]
  },
  {
   "cell_type": "code",
   "execution_count": null,
   "metadata": {},
   "outputs": [],
   "source": []
  },
  {
   "cell_type": "code",
   "execution_count": null,
   "metadata": {},
   "outputs": [],
   "source": []
  },
  {
   "cell_type": "code",
   "execution_count": 11,
   "metadata": {},
   "outputs": [],
   "source": [
    "# print(node_feat_join_df.columns)\n",
    "# print(node_feat_join_df)\n"
   ]
  },
  {
   "cell_type": "code",
   "execution_count": null,
   "metadata": {},
   "outputs": [],
   "source": []
  },
  {
   "cell_type": "code",
   "execution_count": null,
   "metadata": {
    "uuid": "1ba56638-1321-41df-8671-8bc7b69d43bd"
   },
   "outputs": [],
   "source": []
  },
  {
   "cell_type": "code",
   "execution_count": null,
   "metadata": {
    "uuid": "dcb27601-fe04-4c64-802e-995d5617b39d"
   },
   "outputs": [],
   "source": []
  },
  {
   "cell_type": "code",
   "execution_count": null,
   "metadata": {
    "uuid": "235b7c97-e3d2-48c5-adfc-c79ac66f10d3"
   },
   "outputs": [],
   "source": []
  },
  {
   "cell_type": "code",
   "execution_count": null,
   "metadata": {
    "uuid": "1365d12e-01f5-4960-8731-7fdaa45851a2"
   },
   "outputs": [],
   "source": []
  },
  {
   "cell_type": "code",
   "execution_count": 38,
   "metadata": {
    "uuid": "c476173d-bf40-49ff-b67d-75122121dace"
   },
   "outputs": [],
   "source": []
  },
  {
   "cell_type": "code",
   "execution_count": null,
   "metadata": {
    "uuid": "f733185f-1510-4318-99be-c14e4dbea407"
   },
   "outputs": [],
   "source": []
  },
  {
   "cell_type": "code",
   "execution_count": null,
   "metadata": {
    "uuid": "208a0233-95f2-49f8-9778-2e99bbecd399"
   },
   "outputs": [],
   "source": []
  },
  {
   "cell_type": "code",
   "execution_count": 39,
   "metadata": {
    "uuid": "a4533227-56dc-48ac-84f9-a3175cadebdd"
   },
   "outputs": [],
   "source": []
  },
  {
   "cell_type": "code",
   "execution_count": 40,
   "metadata": {},
   "outputs": [],
   "source": []
  },
  {
   "cell_type": "code",
   "execution_count": 41,
   "metadata": {},
   "outputs": [
    {
     "ename": "NameError",
     "evalue": "name 'new_df' is not defined",
     "output_type": "error",
     "traceback": [
      "\u001b[0;31m---------------------------------------------------------------------------\u001b[0m",
      "\u001b[0;31mNameError\u001b[0m                                 Traceback (most recent call last)",
      "\u001b[0;32m<ipython-input-41-913cc8ccdc27>\u001b[0m in \u001b[0;36m<module>\u001b[0;34m\u001b[0m\n\u001b[0;32m----> 1\u001b[0;31m \u001b[0mprint\u001b[0m\u001b[0;34m(\u001b[0m\u001b[0mnew_df\u001b[0m\u001b[0;34m)\u001b[0m\u001b[0;34m\u001b[0m\u001b[0;34m\u001b[0m\u001b[0m\n\u001b[0m",
      "\u001b[0;31mNameError\u001b[0m: name 'new_df' is not defined"
     ]
    }
   ],
   "source": []
  },
  {
   "cell_type": "code",
   "execution_count": null,
   "metadata": {},
   "outputs": [],
   "source": []
  },
  {
   "cell_type": "code",
   "execution_count": null,
   "metadata": {},
   "outputs": [],
   "source": []
  },
  {
   "cell_type": "code",
   "execution_count": null,
   "metadata": {},
   "outputs": [],
   "source": []
  },
  {
   "cell_type": "code",
   "execution_count": null,
   "metadata": {},
   "outputs": [],
   "source": []
  }
 ],
 "metadata": {
  "kernelspec": {
   "display_name": "Python 3",
   "language": "python",
   "name": "python3"
  },
  "language_info": {
   "codemirror_mode": {
    "name": "ipython",
    "version": 3
   },
   "file_extension": ".py",
   "mimetype": "text/x-python",
   "name": "python",
   "nbconvert_exporter": "python",
   "pygments_lexer": "ipython3",
   "version": "3.6.12"
  }
 },
 "nbformat": 4,
 "nbformat_minor": 4
}
