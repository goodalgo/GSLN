{
 "cells": [
  {
   "cell_type": "code",
   "execution_count": 1,
   "metadata": {
    "uuid": "423951f9-0860-4984-af2b-aa85ac11f41a"
   },
   "outputs": [
    {
     "name": "stderr",
     "output_type": "stream",
     "text": [
      "Using backend: pytorch\n"
     ]
    }
   ],
   "source": [
    "import dgl"
   ]
  },
  {
   "cell_type": "code",
   "execution_count": 2,
   "metadata": {
    "uuid": "5d127a39-d0c7-41d2-8b62-5e9b5f3b3a20"
   },
   "outputs": [
    {
     "name": "stderr",
     "output_type": "stream",
     "text": [
      "/home/pai/lib/python3.6/site-packages/dgl/base.py:45: DGLWarning: Recommend creating graphs by `dgl.graph(data)` instead of `dgl.DGLGraph(data)`.\n",
      "  return warnings.warn(message, category=category, stacklevel=1)\n"
     ]
    }
   ],
   "source": [
    "g = dgl.DGLGraph()"
   ]
  },
  {
   "cell_type": "code",
   "execution_count": 3,
   "metadata": {
    "uuid": "7c59ef34-6f42-47b1-8da6-0c091431ae3d"
   },
   "outputs": [],
   "source": [
    "import pandas as pd\n",
    "import numpy as np"
   ]
  },
  {
   "cell_type": "code",
   "execution_count": 4,
   "metadata": {
    "uuid": "afd1e023-cc32-4b43-9150-bb59f09e16ee"
   },
   "outputs": [],
   "source": [
    "nodes = pd.read_csv('ndatas/news_related_graph_node_prop_norm.csv', header=0, sep='\\t', error_bad_lines=False)\n",
    "edges= pd.read_csv('edatas/news_rela_edge_filter_level_3.csv', header=0, sep='\\t', error_bad_lines=False)[['src_id','dst_id']]\n",
    "# print(edges)"
   ]
  },
  {
   "cell_type": "code",
   "execution_count": 5,
   "metadata": {},
   "outputs": [],
   "source": [
    "nodes[['onecomp_id']] = nodes[['onecomp_id']].astype(str)\n",
    "edges[['src_id', 'dst_id']] = edges[['src_id', 'dst_id']].astype(str)\n"
   ]
  },
  {
   "cell_type": "code",
   "execution_count": 15,
   "metadata": {
    "uuid": "df8fd2fd-77e4-40c4-bbfe-1bc0823c42f7"
   },
   "outputs": [
    {
     "name": "stdout",
     "output_type": "stream",
     "text": [
      "edges\n"
     ]
    }
   ],
   "source": [
    "print(\"edges\")"
   ]
  },
  {
   "cell_type": "code",
   "execution_count": 7,
   "metadata": {
    "uuid": "71501a72-4cc3-4658-8935-d21150fe249e"
   },
   "outputs": [],
   "source": [
    "merge_df = pd.merge(left=edges, right=nodes, how='left', left_on='src_id', right_on='onecomp_id')"
   ]
  },
  {
   "cell_type": "code",
   "execution_count": 8,
   "metadata": {
    "uuid": "3d903681-feae-420b-9c7d-73a1ea718d7c"
   },
   "outputs": [],
   "source": [
    "new_merge_df = pd.merge(left=merge_df, right=nodes, how='left', left_on='dst_id', right_on='onecomp_id')\n"
   ]
  },
  {
   "cell_type": "code",
   "execution_count": 9,
   "metadata": {},
   "outputs": [
    {
     "name": "stdout",
     "output_type": "stream",
     "text": [
      "(6751129, 166) (2580940, 166)\n"
     ]
    }
   ],
   "source": [
    " \n",
    "na_df = new_merge_df[new_merge_df[\"level3_dd_x\"].isna() | new_merge_df[\"level3_dd_y\"].isna()]\n",
    "effect_df = new_merge_df[~new_merge_df[\"level3_dd_x\"].isna() & ~new_merge_df[\"level3_dd_y\"].isna()]\n",
    "\n",
    "print(na_df.shape, effect_df.shape)\n"
   ]
  },
  {
   "cell_type": "code",
   "execution_count": 34,
   "metadata": {},
   "outputs": [],
   "source": [
    "effect_edges_df = effect_df[['src_id', 'dst_id']]\n"
   ]
  },
  {
   "cell_type": "code",
   "execution_count": 19,
   "metadata": {},
   "outputs": [
    {
     "name": "stdout",
     "output_type": "stream",
     "text": [
      "                      src_id               dst_id\n",
      "3        1180716059838829099  1180716060058036399\n",
      "4        1201117000269831043  1180716033058508978\n",
      "12       1180716014320833159  1180716022973112628\n",
      "16       1180716011167492304  1191120003708567532\n",
      "18       1180716056450305299  1180716091827907773\n",
      "...                      ...                  ...\n",
      "9332050  1180716026747532641  1180716022629817806\n",
      "9332053  1180716047590154833  1180716064333190168\n",
      "9332059  1180716040715917965  1180716040703928827\n",
      "9332060  1180716063859657017  1180716063849978526\n",
      "9332062  1180716007719428732  1180716018101716294\n",
      "\n",
      "[2580940 rows x 2 columns]\n"
     ]
    }
   ],
   "source": []
  },
  {
   "cell_type": "code",
   "execution_count": 39,
   "metadata": {},
   "outputs": [
    {
     "name": "stderr",
     "output_type": "stream",
     "text": [
      "/home/pai/lib/python3.6/site-packages/ipykernel_launcher.py:2: SettingWithCopyWarning: \n",
      "A value is trying to be set on a copy of a slice from a DataFrame.\n",
      "Try using .loc[row_indexer,col_indexer] = value instead\n",
      "\n",
      "See the caveats in the documentation: https://pandas.pydata.org/pandas-docs/stable/user_guide/indexing.html#returning-a-view-versus-a-copy\n",
      "  \n",
      "/home/pai/lib/python3.6/site-packages/ipykernel_launcher.py:3: SettingWithCopyWarning: \n",
      "A value is trying to be set on a copy of a slice from a DataFrame.\n",
      "Try using .loc[row_indexer,col_indexer] = value instead\n",
      "\n",
      "See the caveats in the documentation: https://pandas.pydata.org/pandas-docs/stable/user_guide/indexing.html#returning-a-view-versus-a-copy\n",
      "  This is separate from the ipykernel package so we can avoid doing imports until\n",
      "/home/pai/lib/python3.6/site-packages/dgl/base.py:45: DGLWarning: Recommend creating graphs by `dgl.graph(data)` instead of `dgl.DGLGraph(data)`.\n",
      "  return warnings.warn(message, category=category, stacklevel=1)\n"
     ]
    }
   ],
   "source": [
    "cid_2_index = {cid:index for index,cid in enumerate(nodes.onecomp_id.tolist())}\n",
    "effect_edges_df['src_id_idx'] = effect_edges_df['src_id'].map(lambda x:cid_2_index[x])\n",
    "effect_edges_df['dst_id_idx'] = effect_edges_df['dst_id'].map(lambda x:cid_2_index[x])\n",
    "\n",
    "g = dgl.DGLGraph((effect_edges_df[\"src_id_idx\"].tolist(), effect_edges_df[\"dst_id_idx\"].tolist()))\n",
    "#g.add_nodes(len(nodes['onecomp_id']))  #注意清空\n",
    "#g.add_edges(effect_edges_df[\"src_id_idx\"].tolist(),effect_edges_df[\"dst_id_idx\"].tolist())"
   ]
  },
  {
   "cell_type": "code",
   "execution_count": null,
   "metadata": {},
   "outputs": [],
   "source": []
  },
  {
   "cell_type": "code",
   "execution_count": 41,
   "metadata": {},
   "outputs": [],
   "source": [
    "from dgl.data.utils import load_graphs,save_graphs"
   ]
  },
  {
   "cell_type": "code",
   "execution_count": 42,
   "metadata": {
    "uuid": "1ba56638-1321-41df-8671-8bc7b69d43bd"
   },
   "outputs": [],
   "source": [
    "save_graphs(\"dglgraphs/news_graph_demo\", [g])"
   ]
  },
  {
   "cell_type": "code",
   "execution_count": 43,
   "metadata": {
    "uuid": "dcb27601-fe04-4c64-802e-995d5617b39d"
   },
   "outputs": [],
   "source": [
    "glist,_ = load_graphs(\"dglgraphs/news_graph_demo\")"
   ]
  },
  {
   "cell_type": "code",
   "execution_count": 44,
   "metadata": {
    "uuid": "235b7c97-e3d2-48c5-adfc-c79ac66f10d3"
   },
   "outputs": [
    {
     "data": {
      "text/plain": [
       "(tensor([1835367,  493263,  264067,  ..., 3445216, 2320349, 1769841]),\n",
       " tensor([ 478343, 2001361, 2863373,  ...,  231517, 1620682,    7248]))"
      ]
     },
     "execution_count": 44,
     "metadata": {},
     "output_type": "execute_result"
    }
   ],
   "source": [
    "glist[0].edges(order='eid')"
   ]
  },
  {
   "cell_type": "code",
   "execution_count": 22,
   "metadata": {
    "uuid": "1365d12e-01f5-4960-8731-7fdaa45851a2"
   },
   "outputs": [],
   "source": [
    "len(glist[0].edges()[0])"
   ]
  },
  {
   "cell_type": "code",
   "execution_count": 25,
   "metadata": {
    "uuid": "c476173d-bf40-49ff-b67d-75122121dace"
   },
   "outputs": [],
   "source": [
    "import torch"
   ]
  },
  {
   "cell_type": "code",
   "execution_count": 45,
   "metadata": {
    "uuid": "f733185f-1510-4318-99be-c14e4dbea407"
   },
   "outputs": [
    {
     "name": "stdout",
     "output_type": "stream",
     "text": [
      "3783842\n",
      "g.number_of_nodes(): 3783842\n",
      "g.number_of_edges(): 2580940\n"
     ]
    }
   ],
   "source": [
    "print((len(nodes['onecomp_id'])))\n",
    "print(\"g.number_of_nodes():\", g.number_of_nodes())\n",
    "print(\"g.number_of_edges():\", g.number_of_edges())"
   ]
  },
  {
   "cell_type": "code",
   "execution_count": 28,
   "metadata": {
    "uuid": "208a0233-95f2-49f8-9778-2e99bbecd399"
   },
   "outputs": [
    {
     "name": "stdout",
     "output_type": "stream",
     "text": [
      "Index(['onecomp_id', 'black_cnt_qianshui_gg', 'black_cnt_tax_punish_critical',\n",
      "       'black_cnt_tax_anomaly', 'black_cnt_food_punish',\n",
      "       'black_cnt_punish_black', 'black_cnt_tax_punish',\n",
      "       'black_cnt_haiguan_punish', 'black_cnt_legal_freeze',\n",
      "       'black_cnt_shares_frost', 'black_cnt_shixin_executed',\n",
      "       'black_cnt_executed_info', 'black_cnt_shares_impawn',\n",
      "       'black_cnt_xz_chufa', 'black_cnt_anomalies',\n",
      "       'black_cnt_chattel_mortgagen', 'black_cnt_serious_illegal',\n",
      "       'black_cnt_ip_pledge', 'black_cnt_legal_restricted',\n",
      "       'black_cnt_huanbao', 'is_foreign_basic', 'is_state_own_basic',\n",
      "       'is_private_own_basic', 'is_hmt_basic', 'is_collective_basic',\n",
      "       'is_chinese_foreign_basic', 'is_govern_basic', 'is_listed_basic',\n",
      "       'is_branch_basic', 'is_sole_basic', 'is_ltd_basic', 'is_co_ltd_basic',\n",
      "       'is_legal_person_basic', 'is_reg_foreign_currency_basic',\n",
      "       'reg_cap_fmt_basic', 'ent_status_fmt_basic', 'is_close_opto_basic',\n",
      "       'is_clearout_ecom', 'is_punish_ecom', 'is_ip_punish_ecom',\n",
      "       'is_overdue_ecom', 'is_sales_fake_ecom', 'is_rsk_list_ecom',\n",
      "       'is_high_rsk_list_ecom', 'is_state_owned_postag',\n",
      "       'is_central_government_owned_postag', 'is_public_postag',\n",
      "       'is_tier_a_taxpayer_postag', 'is_legal_comp_postag',\n",
      "       'is_above_scale_postag', 'is_china500_postag', 'is_world500_postag',\n",
      "       'is_gazelle_postag', 'is_unicorn_postag', 'is_innovation_postag',\n",
      "       'is_new_comp', 'biz_revenue_new_fin', 'equity_fin', 'net_profit_fin',\n",
      "       'oper_revenue_fin', 'tax_fin', 'total_assets_fin',\n",
      "       'total_liability_fin', 'total_profit_fin', 'legal_cont_bg_cnt',\n",
      "       'legal_cont_yg_cnt', 'legal_judge_bg_cnt', 'legal_judge_yg_cnt',\n",
      "       'employee_num', 'oper_status_annual', 'stock_transfer_annual',\n",
      "       'is_assurance_annual', 'is_website_annual_postag',\n",
      "       'invest_info_annual_postag', 'ktgg_bg_cnt', 'fygg_bg_cnt',\n",
      "       'case_reg_bg_cnt', 'case_term_bg_cnt', 'label_beigao_cnt_2019',\n",
      "       'province_merge', 'industry_name_lv1', 'level3_dd'],\n",
      "      dtype='object')\n"
     ]
    }
   ],
   "source": [
    "ndata_df = nodes\n",
    "province_dict = {\"广东省\":\"1\", \"湖南省\":\"2\", \"山东省\":\"3\", \"江苏省\":\"4\", \"浙江省\":\"5\", \"安徽省\":\"6\", \"四川省\":\"7\", \"河北省\":\"8\", \"湖北省\":\"9\", \"北京\":\"10\", \"河南省\":\"11\", \"内蒙古自治区\":\"12\", \"山西省\":\"13\", \"福建省\":\"14\", \"上海\":\"15\", \"新疆维吾尔自治区\":\"15\", \"辽宁省\":\"17\", \"重庆\":\"18\", \"陕西省\":\"19\", \"云南省\":\"20\", \"江西省\":\"21\", \"广西壮族自治区\":\"22\", \"甘肃省\":\"23\", \"黑龙江省\":\"24\", \"贵州省\":\"25\", \"天津\":\"26\", \"吉林省\":\"27\", \"宁夏回族自治区\":\"28\", \"海南省\":\"29\", \"青海省\":\"30\", \"西藏自治区\":\"31\", \"香港特别行政区\":\"32\", \"台湾\":\"33\", \"澳门特别行政区\":\"34\"}\n",
    "\n",
    "def encode_province(p):\n",
    "    if p in province_dict.keys():\n",
    "        return province_dict[p]\n",
    "    else:\n",
    "        return \"0\"\n",
    "\n",
    "    \n",
    "print(ndata_df.columns)\n",
    "\n",
    "ndata_df[\"province_merge\"] = ndata_df[\"province_merge\"].apply(encode_province)\n",
    "\n",
    "\n",
    "indurstry_dict = {'制造业':\"1\", '金融业':\"2\", '批发和零售业':\"3\", '交通运输、仓储和邮政业':\"4\", '租赁和商务服务业':\"5\", '国际组织':\"6\", '教育':\"7\", '文化、体育和娱乐业':\"8\", '科学研究和技术服务业':\"9\", '采矿业':\"10\", '房地产业':\"11\", '公共管理、社会保障和社会组织':\"12\", '水利、环境和公共设施管理业':\"13\", '建筑业':\"14\", '卫生和社会工作':\"15\", '电力、热力、燃气及水生产和供应业':\"16\", '信息传输、软件和信息技术服务业':\"17\", '居民服务、修理和其他服务业':\"18\", '住宿和餐饮业':\"19\", '农、林、牧、渔业':\"20\"}\n",
    "def encode_indurstry(p):\n",
    "    if p in indurstry_dict.keys():\n",
    "        return indurstry_dict[p]\n",
    "    else:\n",
    "        return \"0\"\n",
    "    \n",
    "ndata_df[\"industry_name_lv1\"] = ndata_df[\"industry_name_lv1\"].apply(encode_indurstry)\n",
    "\n",
    "\n",
    "def encode_comp_rate(level3_dd):\n",
    "    if level3_dd == \"normal\":\n",
    "        return 0\n",
    "    else:\n",
    "        return 1\n",
    "\n",
    "ndata_df[\"level3_dd\"] = ndata_df[\"level3_dd\"].apply(encode_comp_rate)"
   ]
  },
  {
   "cell_type": "code",
   "execution_count": null,
   "metadata": {
    "uuid": "a4533227-56dc-48ac-84f9-a3175cadebdd"
   },
   "outputs": [],
   "source": [
    "# print(df.columns)\n",
    "import pickle\n",
    "ndata_df.to_pickle('ndatas/processed_node_prop.pkl',compression='xz')"
   ]
  },
  {
   "cell_type": "code",
   "execution_count": 32,
   "metadata": {},
   "outputs": [],
   "source": [
    "new_df = pd.read_pickle('ndatas/processed_node_prop.pkl', 'xz')\n",
    "# print(new_df)"
   ]
  },
  {
   "cell_type": "code",
   "execution_count": 33,
   "metadata": {},
   "outputs": [
    {
     "name": "stdout",
     "output_type": "stream",
     "text": [
      "                  onecomp_id  black_cnt_qianshui_gg  \\\n",
      "0        1180716001767367024                    NaN   \n",
      "1        1180716001767385982                    NaN   \n",
      "2        1180716001767457469                    NaN   \n",
      "3        1180716001768499281                    NaN   \n",
      "4        1180716001773226598                    NaN   \n",
      "...                      ...                    ...   \n",
      "3783837  1180716014774899675                    NaN   \n",
      "3783838  1180716014775706206                    NaN   \n",
      "3783839  1180716014777971741                    NaN   \n",
      "3783840  1180716014779089241                    NaN   \n",
      "3783841  1180716014780336863                    NaN   \n",
      "\n",
      "         black_cnt_tax_punish_critical  black_cnt_tax_anomaly  \\\n",
      "0                                  NaN                    NaN   \n",
      "1                                  NaN                    NaN   \n",
      "2                                  NaN                    NaN   \n",
      "3                                  NaN                    NaN   \n",
      "4                                  NaN                    NaN   \n",
      "...                                ...                    ...   \n",
      "3783837                            NaN                    NaN   \n",
      "3783838                            NaN                    NaN   \n",
      "3783839                            NaN                    NaN   \n",
      "3783840                            NaN                    NaN   \n",
      "3783841                            NaN                    NaN   \n",
      "\n",
      "         black_cnt_food_punish  black_cnt_punish_black  black_cnt_tax_punish  \\\n",
      "0                          NaN                     NaN                   NaN   \n",
      "1                          NaN                     NaN                   NaN   \n",
      "2                          NaN                     NaN                   NaN   \n",
      "3                          NaN                     NaN                   NaN   \n",
      "4                          NaN                     NaN                   NaN   \n",
      "...                        ...                     ...                   ...   \n",
      "3783837                    NaN                     NaN                   NaN   \n",
      "3783838                    NaN                     NaN                   NaN   \n",
      "3783839                    NaN                     NaN                   NaN   \n",
      "3783840                    NaN                     NaN                   NaN   \n",
      "3783841                    NaN                     NaN                   NaN   \n",
      "\n",
      "         black_cnt_haiguan_punish  black_cnt_legal_freeze  \\\n",
      "0                             NaN                     NaN   \n",
      "1                             NaN                     NaN   \n",
      "2                             NaN                     NaN   \n",
      "3                             NaN                     NaN   \n",
      "4                             NaN                     NaN   \n",
      "...                           ...                     ...   \n",
      "3783837                       NaN                     NaN   \n",
      "3783838                       NaN                     NaN   \n",
      "3783839                       NaN                     NaN   \n",
      "3783840                       NaN                     NaN   \n",
      "3783841                       NaN                     NaN   \n",
      "\n",
      "         black_cnt_shares_frost  ...  is_website_annual_postag  \\\n",
      "0                           NaN  ...                       NaN   \n",
      "1                           NaN  ...                       0.0   \n",
      "2                           NaN  ...                       0.0   \n",
      "3                           NaN  ...                       0.0   \n",
      "4                           NaN  ...                       0.0   \n",
      "...                         ...  ...                       ...   \n",
      "3783837                     NaN  ...                       0.0   \n",
      "3783838                     NaN  ...                       0.0   \n",
      "3783839                     NaN  ...                       0.0   \n",
      "3783840                     NaN  ...                       0.0   \n",
      "3783841                     NaN  ...                       0.0   \n",
      "\n",
      "         invest_info_annual_postag  ktgg_bg_cnt  fygg_bg_cnt  case_reg_bg_cnt  \\\n",
      "0                              NaN          NaN          NaN              NaN   \n",
      "1                              0.0          NaN          NaN              NaN   \n",
      "2                              1.0          NaN          NaN              NaN   \n",
      "3                              1.0          NaN          NaN              NaN   \n",
      "4                              0.0          NaN          NaN              NaN   \n",
      "...                            ...          ...          ...              ...   \n",
      "3783837                        0.0          NaN          NaN              NaN   \n",
      "3783838                        0.0          NaN          NaN              NaN   \n",
      "3783839                        0.0          NaN          NaN              NaN   \n",
      "3783840                        0.0          NaN          NaN              NaN   \n",
      "3783841                        0.0          1.0          NaN              NaN   \n",
      "\n",
      "         case_term_bg_cnt  label_beigao_cnt_2019  province_merge  \\\n",
      "0                     NaN                    NaN              10   \n",
      "1                     NaN                    NaN              10   \n",
      "2                     NaN                    NaN              10   \n",
      "3                     NaN                    NaN               5   \n",
      "4                     NaN                    NaN              10   \n",
      "...                   ...                    ...             ...   \n",
      "3783837               NaN                    NaN              15   \n",
      "3783838               NaN                    NaN              15   \n",
      "3783839               NaN                    NaN              15   \n",
      "3783840               NaN                    NaN              15   \n",
      "3783841               NaN                    NaN              15   \n",
      "\n",
      "         industry_name_lv1  level3_dd  \n",
      "0                        2          1  \n",
      "1                       11          1  \n",
      "2                        5          0  \n",
      "3                        5          0  \n",
      "4                        2          0  \n",
      "...                    ...        ...  \n",
      "3783837                  3          0  \n",
      "3783838                  3          1  \n",
      "3783839                 11          0  \n",
      "3783840                  9          1  \n",
      "3783841                  9          1  \n",
      "\n",
      "[3783842 rows x 82 columns]\n"
     ]
    }
   ],
   "source": [
    "print(new_df)"
   ]
  },
  {
   "cell_type": "code",
   "execution_count": null,
   "metadata": {},
   "outputs": [],
   "source": [
    "print(\"g.nodes():\", g.nodes())"
   ]
  }
 ],
 "metadata": {
  "kernelspec": {
   "display_name": "Python 3",
   "language": "python",
   "name": "python3"
  },
  "language_info": {
   "codemirror_mode": {
    "name": "ipython",
    "version": 3
   },
   "file_extension": ".py",
   "mimetype": "text/x-python",
   "name": "python",
   "nbconvert_exporter": "python",
   "pygments_lexer": "ipython3",
   "version": "3.6.12"
  }
 },
 "nbformat": 4,
 "nbformat_minor": 4
}
