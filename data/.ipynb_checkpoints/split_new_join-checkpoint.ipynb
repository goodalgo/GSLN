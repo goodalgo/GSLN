{
 "cells": [
  {
   "cell_type": "code",
   "execution_count": 26,
   "metadata": {
    "uuid": "26d624e7-a6ba-4646-8f68-0dcafa199709"
   },
   "outputs": [],
   "source": [
    "import pandas as pd\n",
    "from collections import Counter\n",
    "from tqdm import tqdm\n",
    "import os\n",
    "\n",
    "df = pd.read_csv('news_tagging_level_parse_join.csv',sep='\\t', header=0, error_bad_lines=False)\n",
    "\n",
    "from sklearn.utils import shuffle\n",
    "df = shuffle(df)"
   ]
  },
  {
   "cell_type": "code",
   "execution_count": 27,
   "metadata": {
    "uuid": "dfd7040f-a0a2-41c3-bff9-2387a4a76fab"
   },
   "outputs": [],
   "source": [
    "datadir = 'news_level_parse_join'\n",
    "\n",
    "if not os.path.exists(f\"./{datadir}\"):\n",
    "    os.makedirs(f\"./{datadir}\")"
   ]
  },
  {
   "cell_type": "code",
   "execution_count": null,
   "metadata": {
    "uuid": "60c1c326-4ff0-4bfb-a301-203b708ca561"
   },
   "outputs": [],
   "source": []
  },
  {
   "cell_type": "code",
   "execution_count": 28,
   "metadata": {
    "uuid": "e45452c4-ec83-45f3-898c-53bc86b41d16"
   },
   "outputs": [
    {
     "name": "stdout",
     "output_type": "stream",
     "text": [
      "Index(['href', 'title', 'comp_name', 'onecomp_id', 'news_date_format',\n",
      "       'risk_context', 'content_merge', 'sentiment_label', 'multilabel',\n",
      "       'content_ori', 'content_join', 'rnk'],\n",
      "      dtype='object')\n"
     ]
    }
   ],
   "source": [
    "print(df.columns)"
   ]
  },
  {
   "cell_type": "code",
   "execution_count": 29,
   "metadata": {
    "uuid": "126989bf-5147-4632-a147-018421807d1c"
   },
   "outputs": [],
   "source": [
    "with open(f'./{datadir}/train.txt','w',encoding='utf-8') as train, \\\n",
    "    open(f'./{datadir}/test.txt','w',encoding='utf-8') as test, \\\n",
    "    open(f'./{datadir}/dev.txt','w',encoding='utf-8') as dev:\n",
    "    for row_index,row in df.iterrows():\n",
    "        if row_index<df.shape[0]*0.6:\n",
    "            train.write(f\"{row['title']}<-->{row['risk_context']}<-->{row['content_merge']}<-->{row['sentiment_label']}<-->{row['multilabel']}\\n\")  #content_join\n",
    "        elif row_index<df.shape[0]*0.8:\n",
    "            test.write(f\"{row['title']}<-->{row['risk_context']}<-->{row['content_merge']}<-->{row['sentiment_label']}<-->{row['multilabel']}\\n\")      \n",
    "        else:\n",
    "            dev.write(f\"{row['title']}<-->{row['risk_context']}<-->{row['content_merge']}<-->{row['sentiment_label']}<-->{row['multilabel']}\\n\")"
   ]
  },
  {
   "cell_type": "code",
   "execution_count": null,
   "metadata": {
    "uuid": "6ddcea26-aea5-458e-922d-4590955f52b7"
   },
   "outputs": [],
   "source": []
  },
  {
   "cell_type": "code",
   "execution_count": null,
   "metadata": {},
   "outputs": [],
   "source": []
  }
 ],
 "metadata": {
  "kernelspec": {
   "display_name": "Python 3",
   "language": "python",
   "name": "python3"
  },
  "language_info": {
   "codemirror_mode": {
    "name": "ipython",
    "version": 3
   },
   "file_extension": ".py",
   "mimetype": "text/x-python",
   "name": "python",
   "nbconvert_exporter": "python",
   "pygments_lexer": "ipython3",
   "version": "3.6.12"
  }
 },
 "nbformat": 4,
 "nbformat_minor": 4
}
