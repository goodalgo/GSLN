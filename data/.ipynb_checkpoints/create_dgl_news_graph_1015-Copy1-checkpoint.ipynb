{
 "cells": [
  {
   "cell_type": "code",
   "execution_count": 1,
   "metadata": {
    "uuid": "423951f9-0860-4984-af2b-aa85ac11f41a"
   },
   "outputs": [
    {
     "name": "stderr",
     "output_type": "stream",
     "text": [
      "Using backend: pytorch\n"
     ]
    }
   ],
   "source": [
    "import dgl\n",
    "from dgl.data.utils import load_graphs,save_graphs"
   ]
  },
  {
   "cell_type": "code",
   "execution_count": 2,
   "metadata": {
    "uuid": "5d127a39-d0c7-41d2-8b62-5e9b5f3b3a20"
   },
   "outputs": [
    {
     "name": "stderr",
     "output_type": "stream",
     "text": [
      "/home/pai/lib/python3.6/site-packages/dgl/base.py:45: DGLWarning: Recommend creating graphs by `dgl.graph(data)` instead of `dgl.DGLGraph(data)`.\n",
      "  return warnings.warn(message, category=category, stacklevel=1)\n"
     ]
    }
   ],
   "source": [
    "g = dgl.DGLGraph()"
   ]
  },
  {
   "cell_type": "code",
   "execution_count": 3,
   "metadata": {
    "uuid": "7c59ef34-6f42-47b1-8da6-0c091431ae3d"
   },
   "outputs": [],
   "source": [
    "import pandas as pd\n",
    "import numpy as np"
   ]
  },
  {
   "cell_type": "code",
   "execution_count": 4,
   "metadata": {
    "uuid": "afd1e023-cc32-4b43-9150-bb59f09e16ee"
   },
   "outputs": [],
   "source": [
    "comp_nodes = pd.read_csv('ndatas/news_related_graph_node_prop_norm.csv', header=0, sep='\\t', error_bad_lines=False)\n",
    "comp_edges= pd.read_csv('edatas/news_rela_edge_filter_level_3.csv', header=0, sep='\\t', error_bad_lines=False)[['src_id','dst_id']]\n",
    "# print(edges)"
   ]
  },
  {
   "cell_type": "code",
   "execution_count": 5,
   "metadata": {},
   "outputs": [
    {
     "name": "stderr",
     "output_type": "stream",
     "text": [
      "b'Skipping line 3045: expected 9 fields, saw 10\\n'\n"
     ]
    }
   ],
   "source": [
    "import hashlib\n",
    "def get_hash_encode(instr):\n",
    "    m = hashlib.md5()\n",
    "    #参数必须是byte类型，否则报Unicode-objects must be encoded before hashing错误\n",
    "    m.update(instr.encode(encoding='utf-8'))\n",
    "    psw = m.hexdigest()\n",
    "    return psw\n",
    "    \n",
    "\n",
    "comp_nodes[['onecomp_id']] = comp_nodes[['onecomp_id']].astype(str)\n",
    "comp_edges[['src_id', 'dst_id']] = comp_edges[['src_id', 'dst_id']].astype(str)\n",
    "news_label_df = pd.read_csv('news_tagging_level_parse_all.csv',sep='\\t', header=0, error_bad_lines=False)\n",
    "news_label_df[['onecomp_id']] = news_label_df[['onecomp_id']].astype(str)\n",
    "news_label_df['news_id'] = news_label_df['onecomp_id'] + news_label_df['title']  #'news_id' 唯一定位当前文本节点\n",
    "news_label_df['news_id'] = news_label_df['news_id'].apply(lambda instr: get_hash_encode(instr))\n",
    "news_label_df = news_label_df.rename(columns={'onecomp_id':'src_id', 'news_id':'dst_id'})\n",
    "news_label_df = news_label_df.drop_duplicates(subset=['dst_id'],keep='first',inplace=False)"
   ]
  },
  {
   "cell_type": "code",
   "execution_count": 6,
   "metadata": {},
   "outputs": [
    {
     "name": "stderr",
     "output_type": "stream",
     "text": [
      "/home/pai/lib/python3.6/site-packages/ipykernel_launcher.py:1: ParserWarning: Falling back to the 'python' engine because the 'c' engine does not support regex separators (separators > 1 char and different from '\\s+' are interpreted as regex); you can avoid this warning by specifying engine='python'.\n",
      "  \"\"\"Entry point for launching an IPython kernel.\n"
     ]
    }
   ],
   "source": [
    "news_unlabel_df = pd.read_csv('expand_news_l0.csv',sep='<-->', header=0, names=['onecomp_id', 'comp_name', 'title', 'news_date_format', 'content_merge'], error_bad_lines=False)\n",
    "news_unlabel_df[['onecomp_id']] = news_unlabel_df[['onecomp_id']].astype(str)\n",
    "news_unlabel_df['news_id'] = news_unlabel_df['onecomp_id'] + news_unlabel_df['title']  #'news_id' 唯一定位当前文本节点\n",
    "news_unlabel_df['news_id'] = news_unlabel_df['news_id'].apply(lambda instr: get_hash_encode(instr))\n",
    "news_unlabel_df = news_unlabel_df.rename(columns={'onecomp_id':'src_id', 'news_id':'dst_id'})\n",
    "news_unlabel_df = news_unlabel_df.drop_duplicates(subset=['dst_id'],keep='first',inplace=False)\n",
    "news_unlabel_edge = news_unlabel_df[['src_id', 'dst_id']]\n",
    "news_unlabel_df['sentiment_label'] = -99\n",
    "news_unlabel_df['multilabel'] = -99"
   ]
  },
  {
   "cell_type": "code",
   "execution_count": 7,
   "metadata": {},
   "outputs": [
    {
     "name": "stdout",
     "output_type": "stream",
     "text": [
      "(34941, 8)\n",
      "(34940, 8)\n",
      "                    src_id                            dst_id\n",
      "0      1180716000048715115  3a9267138aa3839472b423e81e601882\n",
      "1      1180716000048715115  d277b9b6cc3be4966cf54e01d26b3c7f\n",
      "2      1180716000048715115  d7a0b365c4f3ce1f518f6f516fb09106\n",
      "3      1180716000048715115  9aaa2dbdd89db7c47e2853ad6cbf1cf7\n",
      "4      1180716000048715115  33b9422f60da341d9d21114deba6afe9\n",
      "...                    ...                               ...\n",
      "17426  1180716029859795517  d565600f0c1d441ffb9f36c10839d7ef\n",
      "17427  1180716046950150079  ce1b34c0f2d8f823f641480694c20227\n",
      "17429  1180716051916539270  00346c03a939f1d6863b8cc060de6359\n",
      "17430  1180716010773284680  9a219428b6dd6e0a8d979b1fa36e1b95\n",
      "17431  1180716013033744512  f304f9bbca77d6daa2c024d4f9d9018a\n",
      "\n",
      "[34940 rows x 2 columns]\n"
     ]
    }
   ],
   "source": [
    "news_merge_df = pd.concat((news_label_df[['src_id', 'dst_id', 'comp_name', 'title', 'content_merge','news_date_format', 'sentiment_label', 'multilabel']]\n",
    "                           , news_unlabel_df[['src_id', 'dst_id', 'comp_name', 'title', 'content_merge','news_date_format', 'sentiment_label', 'multilabel']]), axis=0)\n",
    "\n",
    "\n",
    "print(news_merge_df.shape)\n",
    "news_merge_df = news_merge_df.loc[news_merge_df[\"dst_id\"]!=\"5ee6a20881ee6401758945839e24f5fd\"]\n",
    "print(news_merge_df.shape)\n",
    "\n",
    "news_merge_edge = news_merge_df[['src_id', 'dst_id']]\n",
    "print(news_merge_edge)"
   ]
  },
  {
   "cell_type": "code",
   "execution_count": 8,
   "metadata": {},
   "outputs": [],
   "source": [
    "edges_df = pd.concat([comp_edges, news_merge_edge], axis=0)#.sample(n=100)\n",
    "# print(comp_edges.shape)\n",
    "# print(edges_df.shape)\n",
    "\n",
    "import pandas as pd\n",
    "import networkx as nx\n",
    "G_nx = nx.from_pandas_edgelist(edges_df, 'src_id', 'dst_id', edge_attr=True, create_using=nx.Graph())"
   ]
  },
  {
   "cell_type": "code",
   "execution_count": null,
   "metadata": {},
   "outputs": [],
   "source": []
  },
  {
   "cell_type": "code",
   "execution_count": 9,
   "metadata": {
    "uuid": "df8fd2fd-77e4-40c4-bbfe-1bc0823c42f7"
   },
   "outputs": [],
   "source": [
    "node_idx_dict = {}\n",
    "for idx, node in enumerate(G_nx.nodes()):\n",
    "    node_idx_dict[idx] = node\n",
    "#     G_nx.nodes[node]['node_id_ori'] = str(node)\n",
    "\n",
    "node_idx_df = pd.DataFrame.from_dict(node_idx_dict, orient='index', columns= [\"node_ori\"])\n",
    "node_idx_df = node_idx_df.reset_index().rename(columns = {'index':'node_id'})\n",
    "\n",
    "node_feat_join_df = pd.merge(left=node_idx_df, right=news_merge_df, how='left', left_on='node_ori', right_on='dst_id')\n"
   ]
  },
  {
   "cell_type": "code",
   "execution_count": 10,
   "metadata": {},
   "outputs": [
    {
     "name": "stdout",
     "output_type": "stream",
     "text": [
      "         node_id                          node_ori               src_id  \\\n",
      "0              0               1180716030490122867                  NaN   \n",
      "1              1  02021036086bfabbc84bc41375acdf05                  NaN   \n",
      "2              2               1180716044877810093                  NaN   \n",
      "3              3  0798a56a99c6943f8a5acb7e0e046f02                  NaN   \n",
      "4              4               1180716084568461957                  NaN   \n",
      "...          ...                               ...                  ...   \n",
      "5264420  5264420  d565600f0c1d441ffb9f36c10839d7ef  1180716029859795517   \n",
      "5264421  5264421  ce1b34c0f2d8f823f641480694c20227  1180716046950150079   \n",
      "5264422  5264422  00346c03a939f1d6863b8cc060de6359  1180716051916539270   \n",
      "5264423  5264423  9a219428b6dd6e0a8d979b1fa36e1b95  1180716010773284680   \n",
      "5264424  5264424  f304f9bbca77d6daa2c024d4f9d9018a  1180716013033744512   \n",
      "\n",
      "                                   dst_id     comp_name  \\\n",
      "0                                     NaN           NaN   \n",
      "1                                     NaN           NaN   \n",
      "2                                     NaN           NaN   \n",
      "3                                     NaN           NaN   \n",
      "4                                     NaN           NaN   \n",
      "...                                   ...           ...   \n",
      "5264420  d565600f0c1d441ffb9f36c10839d7ef    长城国瑞证券有限公司   \n",
      "5264421  ce1b34c0f2d8f823f641480694c20227   深圳华侨城股份有限公司   \n",
      "5264422  00346c03a939f1d6863b8cc060de6359    广东益华百货有限公司   \n",
      "5264423  9a219428b6dd6e0a8d979b1fa36e1b95  长春中天能源股份有限公司   \n",
      "5264424  f304f9bbca77d6daa2c024d4f9d9018a       上海证券交易所   \n",
      "\n",
      "                                      title  \\\n",
      "0                                       NaN   \n",
      "1                                       NaN   \n",
      "2                                       NaN   \n",
      "3                                       NaN   \n",
      "4                                       NaN   \n",
      "...                                     ...   \n",
      "5264420       被立案调查期间!临沂金正大及万连步持有的部分股票被司法拍卖   \n",
      "5264421  华侨城在子公司之间调剂担保额度 涉及金额0.51亿元 - 观点地产网   \n",
      "5264422       （2021）粤20民申40号送达民事裁定书公告 中山法院网   \n",
      "5264423          业绩预亏超23亿、大额计提减值 st中天遭上交所问询   \n",
      "5264424                          交易-Texhr时尚   \n",
      "\n",
      "                                             content_merge  news_date_format  \\\n",
      "0                                                      NaN               NaN   \n",
      "1                                                      NaN               NaN   \n",
      "2                                                      NaN               NaN   \n",
      "3                                                      NaN               NaN   \n",
      "4                                                      NaN               NaN   \n",
      "...                                                    ...               ...   \n",
      "5264420  被立案调查期间!临沂金正大及万连步持有的部分股票被司法拍卖^^^控股股东临沂金正大投资控股有...        20201030.0   \n",
      "5264421  观点地产网讯：^^^3月2日，深圳华侨城股份有限公司公告称，将全资公司深圳东部华侨城有限公司...        20210302.0   \n",
      "5264422  本院受理陈士国与你和小霸王文化发展有限公司、广东益华百货有限公司、中山市威信置业有限公司与公...        20210330.0   \n",
      "5264423  业绩预亏超23亿、大额计提减值 st中天遭上交所问询^^^厦门农村商业银行股份有限公司因与武...        20200121.0   \n",
      "5264424  嘉欣丝绸(002404)5月8日午间公告，公司股东浙江凯喜雅国际股份有限公司于4月16日至5...        20210728.0   \n",
      "\n",
      "         sentiment_label multilabel  \n",
      "0                    NaN        NaN  \n",
      "1                    NaN        NaN  \n",
      "2                    NaN        NaN  \n",
      "3                    NaN        NaN  \n",
      "4                    NaN        NaN  \n",
      "...                  ...        ...  \n",
      "5264420            -99.0        -99  \n",
      "5264421            -99.0        -99  \n",
      "5264422            -99.0        -99  \n",
      "5264423            -99.0        -99  \n",
      "5264424            -99.0        -99  \n",
      "\n",
      "[5264425 rows x 10 columns]\n",
      "5264425 (5264425, 2) (5264425, 10)\n"
     ]
    }
   ],
   "source": [
    "print(node_feat_join_df)\n",
    "print(len(G_nx.nodes()), node_idx_df.shape, node_feat_join_df.shape)"
   ]
  },
  {
   "cell_type": "code",
   "execution_count": 61,
   "metadata": {},
   "outputs": [],
   "source": [
    "node_feat_join_df = node_feat_join_df.fillna(\"-\")\n",
    "node_feat_join_df.to_csv('ndatas/node_feat_join_merge.csv', sep='\\t', index=0, columns=['node_id', 'node_ori', 'src_id', 'dst_id', 'comp_name', 'title','content_merge', 'news_date_format', 'sentiment_label', 'multilabel'])"
   ]
  },
  {
   "cell_type": "code",
   "execution_count": 17,
   "metadata": {},
   "outputs": [],
   "source": [
    "sample_feat_df = node_feat_join_df[(node_feat_join_df[\"sentiment_label\"]==0) | (node_feat_join_df[\"sentiment_label\"]==1)]\n",
    "sample_feat_df = sample_feat_df.sample(n=1000)\n",
    "sample_feat_df.to_csv('ndatas/node_merge_sample.csv', sep='\\t', index=0, columns=['node_id', 'node_ori', 'src_id', 'dst_id', 'comp_name', 'title','content_merge', 'news_date_format', 'sentiment_label', 'multilabel'])"
   ]
  },
  {
   "cell_type": "code",
   "execution_count": 62,
   "metadata": {},
   "outputs": [],
   "source": [
    "dgl_graph_from_nx = dgl.from_networkx(G_nx)\n",
    "save_graphs(\"dglgraphs/news_graph_from_nx_merge\", [dgl_graph_from_nx])\n"
   ]
  },
  {
   "cell_type": "code",
   "execution_count": 63,
   "metadata": {},
   "outputs": [
    {
     "name": "stdout",
     "output_type": "stream",
     "text": [
      "g.number_of_nodes(): 5264425\n",
      "g.number_of_edges(): 13922028\n"
     ]
    }
   ],
   "source": [
    "glist,_ = load_graphs(\"dglgraphs/news_graph_from_nx_merge\")\n",
    "print(\"g.number_of_nodes():\", glist[0].number_of_nodes())\n",
    "print(\"g.number_of_edges():\", glist[0].number_of_edges())"
   ]
  },
  {
   "cell_type": "code",
   "execution_count": 64,
   "metadata": {},
   "outputs": [
    {
     "name": "stdout",
     "output_type": "stream",
     "text": [
      "Index(['node_id', 'node_ori', 'src_id', 'dst_id', 'comp_name', 'title',\n",
      "       'content_merge', 'news_date_format', 'sentiment_label', 'multilabel'],\n",
      "      dtype='object')\n",
      "         node_id                          node_ori               src_id  \\\n",
      "0              0               1180716030490122867                    -   \n",
      "1              1  02021036086bfabbc84bc41375acdf05                    -   \n",
      "2              2               1180716044877810093                    -   \n",
      "3              3  0798a56a99c6943f8a5acb7e0e046f02                    -   \n",
      "4              4               1180716084568461957                    -   \n",
      "...          ...                               ...                  ...   \n",
      "5264420  5264420  d565600f0c1d441ffb9f36c10839d7ef  1180716029859795517   \n",
      "5264421  5264421  ce1b34c0f2d8f823f641480694c20227  1180716046950150079   \n",
      "5264422  5264422  00346c03a939f1d6863b8cc060de6359  1180716051916539270   \n",
      "5264423  5264423  9a219428b6dd6e0a8d979b1fa36e1b95  1180716010773284680   \n",
      "5264424  5264424  f304f9bbca77d6daa2c024d4f9d9018a  1180716013033744512   \n",
      "\n",
      "                                   dst_id     comp_name  \\\n",
      "0                                       -             -   \n",
      "1                                       -             -   \n",
      "2                                       -             -   \n",
      "3                                       -             -   \n",
      "4                                       -             -   \n",
      "...                                   ...           ...   \n",
      "5264420  d565600f0c1d441ffb9f36c10839d7ef    长城国瑞证券有限公司   \n",
      "5264421  ce1b34c0f2d8f823f641480694c20227   深圳华侨城股份有限公司   \n",
      "5264422  00346c03a939f1d6863b8cc060de6359    广东益华百货有限公司   \n",
      "5264423  9a219428b6dd6e0a8d979b1fa36e1b95  长春中天能源股份有限公司   \n",
      "5264424  f304f9bbca77d6daa2c024d4f9d9018a       上海证券交易所   \n",
      "\n",
      "                                      title  \\\n",
      "0                                         -   \n",
      "1                                         -   \n",
      "2                                         -   \n",
      "3                                         -   \n",
      "4                                         -   \n",
      "...                                     ...   \n",
      "5264420       被立案调查期间!临沂金正大及万连步持有的部分股票被司法拍卖   \n",
      "5264421  华侨城在子公司之间调剂担保额度 涉及金额0.51亿元 - 观点地产网   \n",
      "5264422       （2021）粤20民申40号送达民事裁定书公告 中山法院网   \n",
      "5264423          业绩预亏超23亿、大额计提减值 st中天遭上交所问询   \n",
      "5264424                          交易-Texhr时尚   \n",
      "\n",
      "                                             content_merge news_date_format  \\\n",
      "0                                                        -                -   \n",
      "1                                                        -                -   \n",
      "2                                                        -                -   \n",
      "3                                                        -                -   \n",
      "4                                                        -                -   \n",
      "...                                                    ...              ...   \n",
      "5264420  被立案调查期间!临沂金正大及万连步持有的部分股票被司法拍卖^^^控股股东临沂金正大投资控股有...       2.0201e+07   \n",
      "5264421  观点地产网讯：^^^3月2日，深圳华侨城股份有限公司公告称，将全资公司深圳东部华侨城有限公司...      2.02103e+07   \n",
      "5264422  本院受理陈士国与你和小霸王文化发展有限公司、广东益华百货有限公司、中山市威信置业有限公司与公...      2.02103e+07   \n",
      "5264423  业绩预亏超23亿、大额计提减值 st中天遭上交所问询^^^厦门农村商业银行股份有限公司因与武...      2.02001e+07   \n",
      "5264424  嘉欣丝绸(002404)5月8日午间公告，公司股东浙江凯喜雅国际股份有限公司于4月16日至5...      2.02107e+07   \n",
      "\n",
      "        sentiment_label multilabel  \n",
      "0                     -          -  \n",
      "1                     -          -  \n",
      "2                     -          -  \n",
      "3                     -          -  \n",
      "4                     -          -  \n",
      "...                 ...        ...  \n",
      "5264420             -99        -99  \n",
      "5264421             -99        -99  \n",
      "5264422             -99        -99  \n",
      "5264423             -99        -99  \n",
      "5264424             -99        -99  \n",
      "\n",
      "[5264425 rows x 10 columns]\n"
     ]
    }
   ],
   "source": [
    "print(node_feat_join_df.columns)\n",
    "print(node_feat_join_df)\n"
   ]
  },
  {
   "cell_type": "code",
   "execution_count": null,
   "metadata": {},
   "outputs": [],
   "source": []
  },
  {
   "cell_type": "code",
   "execution_count": null,
   "metadata": {
    "uuid": "1ba56638-1321-41df-8671-8bc7b69d43bd"
   },
   "outputs": [],
   "source": []
  },
  {
   "cell_type": "code",
   "execution_count": null,
   "metadata": {
    "uuid": "dcb27601-fe04-4c64-802e-995d5617b39d"
   },
   "outputs": [],
   "source": []
  },
  {
   "cell_type": "code",
   "execution_count": null,
   "metadata": {
    "uuid": "235b7c97-e3d2-48c5-adfc-c79ac66f10d3"
   },
   "outputs": [],
   "source": []
  },
  {
   "cell_type": "code",
   "execution_count": null,
   "metadata": {
    "uuid": "1365d12e-01f5-4960-8731-7fdaa45851a2"
   },
   "outputs": [],
   "source": []
  },
  {
   "cell_type": "code",
   "execution_count": 38,
   "metadata": {
    "uuid": "c476173d-bf40-49ff-b67d-75122121dace"
   },
   "outputs": [],
   "source": []
  },
  {
   "cell_type": "code",
   "execution_count": null,
   "metadata": {
    "uuid": "f733185f-1510-4318-99be-c14e4dbea407"
   },
   "outputs": [],
   "source": []
  },
  {
   "cell_type": "code",
   "execution_count": null,
   "metadata": {
    "uuid": "208a0233-95f2-49f8-9778-2e99bbecd399"
   },
   "outputs": [],
   "source": []
  },
  {
   "cell_type": "code",
   "execution_count": 39,
   "metadata": {
    "uuid": "a4533227-56dc-48ac-84f9-a3175cadebdd"
   },
   "outputs": [],
   "source": []
  },
  {
   "cell_type": "code",
   "execution_count": 40,
   "metadata": {},
   "outputs": [],
   "source": []
  },
  {
   "cell_type": "code",
   "execution_count": 41,
   "metadata": {},
   "outputs": [
    {
     "ename": "NameError",
     "evalue": "name 'new_df' is not defined",
     "output_type": "error",
     "traceback": [
      "\u001b[0;31m---------------------------------------------------------------------------\u001b[0m",
      "\u001b[0;31mNameError\u001b[0m                                 Traceback (most recent call last)",
      "\u001b[0;32m<ipython-input-41-913cc8ccdc27>\u001b[0m in \u001b[0;36m<module>\u001b[0;34m\u001b[0m\n\u001b[0;32m----> 1\u001b[0;31m \u001b[0mprint\u001b[0m\u001b[0;34m(\u001b[0m\u001b[0mnew_df\u001b[0m\u001b[0;34m)\u001b[0m\u001b[0;34m\u001b[0m\u001b[0;34m\u001b[0m\u001b[0m\n\u001b[0m",
      "\u001b[0;31mNameError\u001b[0m: name 'new_df' is not defined"
     ]
    }
   ],
   "source": []
  },
  {
   "cell_type": "code",
   "execution_count": null,
   "metadata": {},
   "outputs": [],
   "source": []
  },
  {
   "cell_type": "code",
   "execution_count": null,
   "metadata": {},
   "outputs": [],
   "source": []
  },
  {
   "cell_type": "code",
   "execution_count": null,
   "metadata": {},
   "outputs": [],
   "source": []
  },
  {
   "cell_type": "code",
   "execution_count": null,
   "metadata": {},
   "outputs": [],
   "source": []
  }
 ],
 "metadata": {
  "kernelspec": {
   "display_name": "Python 3",
   "language": "python",
   "name": "python3"
  },
  "language_info": {
   "codemirror_mode": {
    "name": "ipython",
    "version": 3
   },
   "file_extension": ".py",
   "mimetype": "text/x-python",
   "name": "python",
   "nbconvert_exporter": "python",
   "pygments_lexer": "ipython3",
   "version": "3.6.12"
  }
 },
 "nbformat": 4,
 "nbformat_minor": 4
}
