{
 "cells": [
  {
   "cell_type": "code",
   "execution_count": 7,
   "id": "e58fc75a",
   "metadata": {},
   "outputs": [
    {
     "ename": "SyntaxError",
     "evalue": "invalid syntax (<ipython-input-7-2f2d69d43019>, line 3)",
     "output_type": "error",
     "traceback": [
      "\u001b[0;36m  File \u001b[0;32m\"<ipython-input-7-2f2d69d43019>\"\u001b[0;36m, line \u001b[0;32m3\u001b[0m\n\u001b[0;31m    print( \",\".join(str([ int(i)*777) for i in multilabel.split(\",\")]))\u001b[0m\n\u001b[0m                                    ^\u001b[0m\n\u001b[0;31mSyntaxError\u001b[0m\u001b[0;31m:\u001b[0m invalid syntax\n"
     ]
    }
   ],
   "source": [
    "multilabel = \"1,1,1,1,1,1,1\"\n",
    "\n",
    "print( \",\".join([ str(int(i)*777) for i in multilabel.split(\",\")]))"
   ]
  },
  {
   "cell_type": "code",
   "execution_count": null,
   "id": "af227908",
   "metadata": {},
   "outputs": [],
   "source": []
  },
  {
   "cell_type": "code",
   "execution_count": null,
   "id": "39b435ba",
   "metadata": {},
   "outputs": [],
   "source": []
  }
 ],
 "metadata": {
  "kernelspec": {
   "display_name": "Python 3",
   "language": "python",
   "name": "python3"
  },
  "language_info": {
   "codemirror_mode": {
    "name": "ipython",
    "version": 3
   },
   "file_extension": ".py",
   "mimetype": "text/x-python",
   "name": "python",
   "nbconvert_exporter": "python",
   "pygments_lexer": "ipython3",
   "version": "3.6.12"
  }
 },
 "nbformat": 4,
 "nbformat_minor": 5
}
