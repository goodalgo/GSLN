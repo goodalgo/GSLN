{
 "cells": [
  {
   "cell_type": "code",
   "execution_count": 15,
   "metadata": {
    "uuid": "423951f9-0860-4984-af2b-aa85ac11f41a"
   },
   "outputs": [],
   "source": [
    "import dgl\n",
    "from dgl.data.utils import load_graphs,save_graphs"
   ]
  },
  {
   "cell_type": "code",
   "execution_count": 16,
   "metadata": {
    "uuid": "5d127a39-d0c7-41d2-8b62-5e9b5f3b3a20"
   },
   "outputs": [
    {
     "name": "stderr",
     "output_type": "stream",
     "text": [
      "/home/pai/lib/python3.6/site-packages/dgl/base.py:45: DGLWarning: Recommend creating graphs by `dgl.graph(data)` instead of `dgl.DGLGraph(data)`.\n",
      "  return warnings.warn(message, category=category, stacklevel=1)\n"
     ]
    }
   ],
   "source": [
    "g = dgl.DGLGraph()"
   ]
  },
  {
   "cell_type": "code",
   "execution_count": 17,
   "metadata": {
    "uuid": "7c59ef34-6f42-47b1-8da6-0c091431ae3d"
   },
   "outputs": [],
   "source": [
    "import pandas as pd\n",
    "import numpy as np"
   ]
  },
  {
   "cell_type": "code",
   "execution_count": 18,
   "metadata": {
    "uuid": "afd1e023-cc32-4b43-9150-bb59f09e16ee"
   },
   "outputs": [],
   "source": [
    "comp_nodes = pd.read_csv('ndatas/news_related_graph_node_prop_norm.csv', header=0, sep='\\t', error_bad_lines=False)\n",
    "comp_edges= pd.read_csv('edatas/news_rela_edge_filter_level_3.csv', header=0, sep='\\t', error_bad_lines=False)[['src_id','dst_id']]\n",
    "# print(edges)"
   ]
  },
  {
   "cell_type": "code",
   "execution_count": 19,
   "metadata": {},
   "outputs": [
    {
     "name": "stdout",
     "output_type": "stream",
     "text": [
      "                                                   href  \\\n",
      "0     http://qhd.house.163.com/keywords/4/1/4e137528...   \n",
      "1     https://news.youth.cn/jsxw/202104/t20210416_12...   \n",
      "2     https://news.sina.com.cn/c/2021-04-14/doc-ikmy...   \n",
      "3     http://news.fznews.com.cn/dsxw/20210414/6076b5...   \n",
      "4     https://baijiahao.baidu.com/s?id=1694919683771...   \n",
      "...                                                 ...   \n",
      "7031             http://www.ncxhw.com/shehui/35504.html   \n",
      "7032  https://www.sogou.com/link?url=hedJjaC291P7GKq...   \n",
      "7033        http://newstock.cfi.cn/p20200123001102.html   \n",
      "7034  http://app.finance.ifeng.com/data/stock/ggzw.p...   \n",
      "7035       https://www.jiemian.com/article/6067754.html   \n",
      "\n",
      "                                                  title         comp_name  \\\n",
      "0                                          专用权__标签_网易出品          中粮集团有限公司   \n",
      "1                           中粮集团公司原总会计师骆家駹受审_新闻频道_中国青年网          中粮集团有限公司   \n",
      "2                       中粮集团原总会计师骆家駹贪污、受贿案一审开庭|邯郸市_新浪新闻          中粮集团有限公司   \n",
      "3      中粮集团有限公司原党组成员、总会计师骆家駹贪污、受贿案一审开庭_国内新闻_国内国际_新闻频...          中粮集团有限公司   \n",
      "4                         曾陷侵害商标权纠纷,烟台威泰庄园葡萄酒公司一产品在河南下架          中粮集团有限公司   \n",
      "...                                                 ...               ...   \n",
      "7031                康跃科技：深圳市盛世丰华企业管理有限公司质押630万股 - 南昌新汇网   深圳市盛世丰华企业管理有限公司   \n",
      "7032                             阿特拉斯集团计划在智利建设854mw光伏电站   深圳市盛世丰华企业管理有限公司   \n",
      "7033                          康跃科技:控股股东、实际控制人拟发生变更的进展公告   深圳市盛世丰华企业管理有限公司   \n",
      "7034  康跃科技：关于控股股东部分股份质押及部分股份解除质押的公告_康跃科技(300391)_公告正...   深圳市盛世丰华企业管理有限公司   \n",
      "7035                      界面陕西晚6点｜全国首家碳中和学院在陕西榆林揭牌|界面新闻  中证资本市场法律服务中心有限公司   \n",
      "\n",
      "                   src_id  news_date_format  \\\n",
      "0     1180716000048739689          20210427   \n",
      "1     1180716000048739689          20210416   \n",
      "2     1180716000048739689          20210414   \n",
      "3     1180716000048739689          20210414   \n",
      "4     1180716000048739689          20210322   \n",
      "...                   ...               ...   \n",
      "7031  1191228000024411073          20201027   \n",
      "7032  1191228000024411073          20200324   \n",
      "7033  1191228000024411073          20200123   \n",
      "7034  1191228000024411073          20190226   \n",
      "7035  1200119000040511279          20190424   \n",
      "\n",
      "                                           risk_context  \\\n",
      "0     近日，黑龙江省高级人民法院就中粮<N>集团有限公司<N>诉大庆旭生房地产开发有限公司侵害商标...   \n",
      "1     北省邯郸市中级法院一审公开开庭审理了中粮<N>集团有限公司<N>原党组成员、总会计师骆家駹<...   \n",
      "2     邯郸市中级人民法院一审公开开庭审理了中粮<N>集团有限公司<N>原党组成员、总会计师骆家駹<...   \n",
      "3     邯郸市中级人民法院一审公开开庭审理了中粮<N>集团有限公司<N>原党组成员、总会计师骆家駹<...   \n",
      "4     2018年陷入三起侵害商标权纠纷，被中粮<N>集团有限公司<N>、烟台张裕葡萄酿酒股份有限公...   \n",
      "...                                                 ...   \n",
      "7031  称，康跃科技股份有限公司近日接到控股股东<N>深圳市<N>盛世丰华<N>企业管理有限公司的通...   \n",
      "7032  控股股东深圳市<N>盛世丰华<N>企业管理有限公司<N>向汤辰、薛毅合计<R>质押<R>股份...   \n",
      "7033  告》等...27,000,000股股份<R>质押<R>给<N>盛世丰华<N>并已办理该等股份...   \n",
      "7034  跃科技”或“上市公司”）近日接到控股股东<N>深圳市<N>盛世丰华<N>企业管理有限公司（以...   \n",
      "7035  与中国证券监督管理委员会陕西监管局、中证<N>资本市场法律服务中心有限公司<N>共同签署《陕...   \n",
      "\n",
      "                                          content_merge  sentiment_label  \\\n",
      "0     近日，黑龙江省高级人民法院就中粮集团有限公司诉大庆旭生房地产开发有限公司侵害商标权纠纷一案，...                1   \n",
      "1     本报讯（记者肖俊林）4月14日，河北省邯郸市中级法院一审公开开庭审理了中粮集团有限公司原党组...                1   \n",
      "2     2021年4月14日，河北省邯郸市中级人民法院一审公开开庭审理了中粮集团有限公司原党组成员、...                1   \n",
      "3     据河北省邯郸市中级人民法院消息，2021年4月14日，河北省邯郸市中级人民法院一审公开开庭审...                1   \n",
      "4     曾陷侵害商标权纠纷,烟台威泰庄园葡萄酒公司一产品在河南下架^^^企查查公开信息显示，烟台威泰...                1   \n",
      "...                                                 ...              ...   \n",
      "7031  每经ai快讯，康跃科技（sz 300391，收盘价：19.13元）10月28日晚间发布公告称...                0   \n",
      "7032  阿特拉斯集团计划在智利建设854mw光伏电站^^^控股股东深圳市盛世丰华企业管理有限公司向汤...                0   \n",
      "7033  康跃科技:控股股东、实际控制人拟发生变更的进展公告^^^康跃科技:控股股东、实际控制人拟发生...                0   \n",
      "7034  本公司及董事会全体成员保证信息披露内容真实、准确和完整，没有虚假记载、误导性陈述或重大遗漏。...                0   \n",
      "7035  据央广网消息，5月9日，西北大学与榆林市人民政府共建西北大学榆林碳中和科创中心签约仪式暨西北...                0   \n",
      "\n",
      "               multilabel                                             dst_id  \n",
      "0     0,0,0,0,0,0,1,0,0,1  1180716000048739689http://qhd.house.163.com/ke...  \n",
      "1     0,0,0,0,0,1,0,1,0,1  1180716000048739689https://news.youth.cn/jsxw/...  \n",
      "2     0,0,0,0,0,1,0,0,0,1  1180716000048739689https://news.sina.com.cn/c/...  \n",
      "3     0,0,0,0,0,1,0,1,0,1  1180716000048739689http://news.fznews.com.cn/d...  \n",
      "4     0,0,0,0,0,0,1,0,0,1  1180716000048739689https://baijiahao.baidu.com...  \n",
      "...                   ...                                                ...  \n",
      "7031  0,0,0,0,1,0,0,0,0,0  1191228000024411073http://www.ncxhw.com/shehui...  \n",
      "7032  0,0,0,0,1,0,0,0,0,0  1191228000024411073https://www.sogou.com/link?...  \n",
      "7033  0,0,0,0,1,0,0,0,0,0  1191228000024411073http://newstock.cfi.cn/p202...  \n",
      "7034  0,0,0,0,1,0,0,0,0,0  1191228000024411073http://app.finance.ifeng.co...  \n",
      "7035  0,0,0,0,0,0,1,0,0,1  1200119000040511279https://www.jiemian.com/art...  \n",
      "\n",
      "[7028 rows x 10 columns]\n"
     ]
    }
   ],
   "source": [
    "comp_nodes[['onecomp_id']] = comp_nodes[['onecomp_id']].astype(str)\n",
    "comp_edges[['src_id', 'dst_id']] = comp_edges[['src_id', 'dst_id']].astype(str)\n",
    "\n",
    "news_df = pd.read_csv('news_tagging_level_parse_7k.csv',sep='\\t', header=0, error_bad_lines=False)\n",
    "news_df[['onecomp_id']] = news_df[['onecomp_id']].astype(str)\n",
    "\n",
    "news_df['news_id'] = news_df['onecomp_id'] + news_df['href']  #'news_id' 唯一定位当前文本节点\n",
    "\n",
    "news_df = news_df.rename(columns={'onecomp_id':'src_id', 'news_id':'dst_id'})\n",
    "\n",
    "news_df = news_df.drop_duplicates(subset=['dst_id'],keep='first',inplace=False)\n",
    "\n",
    "news_edge = news_df[['src_id', 'dst_id']]\n",
    "\n",
    "print(news_df)"
   ]
  },
  {
   "cell_type": "code",
   "execution_count": 20,
   "metadata": {},
   "outputs": [],
   "source": [
    "edges_df = pd.concat([comp_edges,news_edge],axis=0)#.sample(n=100)\n",
    "# print(comp_edges.shape)\n",
    "# print(edges_df.shape)\n",
    "\n",
    "import pandas as pd\n",
    "import networkx as nx\n",
    "G_nx = nx.from_pandas_edgelist(edges_df, 'src_id', 'dst_id', edge_attr=True, create_using=nx.Graph())"
   ]
  },
  {
   "cell_type": "code",
   "execution_count": 21,
   "metadata": {
    "uuid": "df8fd2fd-77e4-40c4-bbfe-1bc0823c42f7"
   },
   "outputs": [],
   "source": [
    "node_idx_dict = {}\n",
    "for idx, node in enumerate(G_nx.nodes()):\n",
    "    node_idx_dict[idx] = node\n",
    "#     G_nx.nodes[node]['node_id_ori'] = str(node)\n",
    "\n",
    "\n",
    "node_idx_df = pd.DataFrame.from_dict(node_idx_dict, orient='index', columns= [\"node_ori\"])\n",
    "node_idx_df = node_idx_df.reset_index().rename(columns = {'index':'node_id'})\n",
    "\n",
    "node_feat_join_df = pd.merge(left=node_idx_df, right=news_df, how='left', left_on='node_ori', right_on='dst_id')\n",
    "\n",
    "\n",
    "# all_nodes = G.nodes()\n",
    "# print( all_nodes)\n",
    "\n",
    "# news_nodes_df = news_df[['dst_id', 'content_merge', 'sentiment_label']]\n",
    "\n",
    "# init_node_list = set(news_nodes_df.dst_id.tolist()[:1])\n",
    "\n",
    "# for node in init_node_list:\n",
    "#     ego_graph = nx.ego_graph(G, node, radius=2)\n",
    "#     tmp_edges = ego_graph.edges()\n",
    "\n",
    "\n",
    "\n",
    "# # H = G.subgraph(news_nodes_df.dst_id.tolist()[:10])\n",
    "\n",
    "# import matplotlib.pyplot as plt\n",
    "# # plot to check\n",
    "# nx.draw(H)\n",
    "# plt.show()\n",
    "\n",
    "# def get_neigbors(g, init_nodes, depth=1):\n",
    "#     output = {}\n",
    "#     layers = dict(nx.bfs_successors(g, source=init_nodes, depth_limit=depth))\n",
    "#     nodes = init_nodes\n",
    "#     for i in range(1,depth+1):\n",
    "#         output[i] = []\n",
    "#         for x in nodes:\n",
    "#             output[i].extend(layers.get(x,[]))\n",
    "#         nodes = output[i]\n",
    "#     return output\n",
    "\n",
    "# result = get_neigbors(G, news_nodes_df.dst_id.tolist(), depth=1)\n",
    "\n",
    "# print(result)\n",
    "# # print(comp_news_df)\n",
    "\n",
    "# node_feat_with_news_df = pd.merge(left=nodes, right=comp_news_df, how='left', left_on='onecomp_id', right_on='onecomp_id')\n",
    "\n",
    "# print(node_feat_with_news_df.shape)\n",
    "# # print(node_feat_with_news_df)\n",
    "\n",
    "# effect_node_df = node_feat_with_news_df[~node_feat_with_news_df[\"sentiment_label\"].isna()]\n",
    "# print(effect_node_df.shape)\n"
   ]
  },
  {
   "cell_type": "code",
   "execution_count": 22,
   "metadata": {},
   "outputs": [
    {
     "name": "stdout",
     "output_type": "stream",
     "text": [
      "         node_id                                           node_ori  \\\n",
      "0              0                                1180716030490122867   \n",
      "1              1                   02021036086bfabbc84bc41375acdf05   \n",
      "2              2                                1180716044877810093   \n",
      "3              3                   0798a56a99c6943f8a5acb7e0e046f02   \n",
      "4              4                                1180716084568461957   \n",
      "...          ...                                                ...   \n",
      "5236458  5236458  1191228000024411073http://www.ncxhw.com/shehui...   \n",
      "5236459  5236459  1191228000024411073https://www.sogou.com/link?...   \n",
      "5236460  5236460  1191228000024411073http://newstock.cfi.cn/p202...   \n",
      "5236461  5236461  1191228000024411073http://app.finance.ifeng.co...   \n",
      "5236462  5236462  1200119000040511279https://www.jiemian.com/art...   \n",
      "\n",
      "                                                      href  \\\n",
      "0                                                      NaN   \n",
      "1                                                      NaN   \n",
      "2                                                      NaN   \n",
      "3                                                      NaN   \n",
      "4                                                      NaN   \n",
      "...                                                    ...   \n",
      "5236458             http://www.ncxhw.com/shehui/35504.html   \n",
      "5236459  https://www.sogou.com/link?url=hedJjaC291P7GKq...   \n",
      "5236460        http://newstock.cfi.cn/p20200123001102.html   \n",
      "5236461  http://app.finance.ifeng.com/data/stock/ggzw.p...   \n",
      "5236462       https://www.jiemian.com/article/6067754.html   \n",
      "\n",
      "                                                     title         comp_name  \\\n",
      "0                                                      NaN               NaN   \n",
      "1                                                      NaN               NaN   \n",
      "2                                                      NaN               NaN   \n",
      "3                                                      NaN               NaN   \n",
      "4                                                      NaN               NaN   \n",
      "...                                                    ...               ...   \n",
      "5236458                康跃科技：深圳市盛世丰华企业管理有限公司质押630万股 - 南昌新汇网   深圳市盛世丰华企业管理有限公司   \n",
      "5236459                             阿特拉斯集团计划在智利建设854mw光伏电站   深圳市盛世丰华企业管理有限公司   \n",
      "5236460                          康跃科技:控股股东、实际控制人拟发生变更的进展公告   深圳市盛世丰华企业管理有限公司   \n",
      "5236461  康跃科技：关于控股股东部分股份质押及部分股份解除质押的公告_康跃科技(300391)_公告正...   深圳市盛世丰华企业管理有限公司   \n",
      "5236462                      界面陕西晚6点｜全国首家碳中和学院在陕西榆林揭牌|界面新闻  中证资本市场法律服务中心有限公司   \n",
      "\n",
      "                      src_id  news_date_format  \\\n",
      "0                        NaN               NaN   \n",
      "1                        NaN               NaN   \n",
      "2                        NaN               NaN   \n",
      "3                        NaN               NaN   \n",
      "4                        NaN               NaN   \n",
      "...                      ...               ...   \n",
      "5236458  1191228000024411073        20201027.0   \n",
      "5236459  1191228000024411073        20200324.0   \n",
      "5236460  1191228000024411073        20200123.0   \n",
      "5236461  1191228000024411073        20190226.0   \n",
      "5236462  1200119000040511279        20190424.0   \n",
      "\n",
      "                                              risk_context  \\\n",
      "0                                                      NaN   \n",
      "1                                                      NaN   \n",
      "2                                                      NaN   \n",
      "3                                                      NaN   \n",
      "4                                                      NaN   \n",
      "...                                                    ...   \n",
      "5236458  称，康跃科技股份有限公司近日接到控股股东<N>深圳市<N>盛世丰华<N>企业管理有限公司的通...   \n",
      "5236459  控股股东深圳市<N>盛世丰华<N>企业管理有限公司<N>向汤辰、薛毅合计<R>质押<R>股份...   \n",
      "5236460  告》等...27,000,000股股份<R>质押<R>给<N>盛世丰华<N>并已办理该等股份...   \n",
      "5236461  跃科技”或“上市公司”）近日接到控股股东<N>深圳市<N>盛世丰华<N>企业管理有限公司（以...   \n",
      "5236462  与中国证券监督管理委员会陕西监管局、中证<N>资本市场法律服务中心有限公司<N>共同签署《陕...   \n",
      "\n",
      "                                             content_merge  sentiment_label  \\\n",
      "0                                                      NaN              NaN   \n",
      "1                                                      NaN              NaN   \n",
      "2                                                      NaN              NaN   \n",
      "3                                                      NaN              NaN   \n",
      "4                                                      NaN              NaN   \n",
      "...                                                    ...              ...   \n",
      "5236458  每经ai快讯，康跃科技（sz 300391，收盘价：19.13元）10月28日晚间发布公告称...              0.0   \n",
      "5236459  阿特拉斯集团计划在智利建设854mw光伏电站^^^控股股东深圳市盛世丰华企业管理有限公司向汤...              0.0   \n",
      "5236460  康跃科技:控股股东、实际控制人拟发生变更的进展公告^^^康跃科技:控股股东、实际控制人拟发生...              0.0   \n",
      "5236461  本公司及董事会全体成员保证信息披露内容真实、准确和完整，没有虚假记载、误导性陈述或重大遗漏。...              0.0   \n",
      "5236462  据央广网消息，5月9日，西北大学与榆林市人民政府共建西北大学榆林碳中和科创中心签约仪式暨西北...              0.0   \n",
      "\n",
      "                  multilabel  \\\n",
      "0                        NaN   \n",
      "1                        NaN   \n",
      "2                        NaN   \n",
      "3                        NaN   \n",
      "4                        NaN   \n",
      "...                      ...   \n",
      "5236458  0,0,0,0,1,0,0,0,0,0   \n",
      "5236459  0,0,0,0,1,0,0,0,0,0   \n",
      "5236460  0,0,0,0,1,0,0,0,0,0   \n",
      "5236461  0,0,0,0,1,0,0,0,0,0   \n",
      "5236462  0,0,0,0,0,0,1,0,0,1   \n",
      "\n",
      "                                                    dst_id  \n",
      "0                                                      NaN  \n",
      "1                                                      NaN  \n",
      "2                                                      NaN  \n",
      "3                                                      NaN  \n",
      "4                                                      NaN  \n",
      "...                                                    ...  \n",
      "5236458  1191228000024411073http://www.ncxhw.com/shehui...  \n",
      "5236459  1191228000024411073https://www.sogou.com/link?...  \n",
      "5236460  1191228000024411073http://newstock.cfi.cn/p202...  \n",
      "5236461  1191228000024411073http://app.finance.ifeng.co...  \n",
      "5236462  1200119000040511279https://www.jiemian.com/art...  \n",
      "\n",
      "[5236463 rows x 12 columns]\n",
      "5236463 (5236463, 2) (5236463, 12)\n"
     ]
    }
   ],
   "source": [
    "print(node_feat_join_df)\n",
    "print(len(G_nx.nodes()), node_idx_df.shape, node_feat_join_df.shape)"
   ]
  },
  {
   "cell_type": "code",
   "execution_count": 27,
   "metadata": {},
   "outputs": [
    {
     "name": "stdout",
     "output_type": "stream",
     "text": [
      "Index(['node_id', 'node_ori', 'href', 'title', 'comp_name', 'src_id',\n",
      "       'news_date_format', 'risk_context', 'content_merge', 'sentiment_label',\n",
      "       'multilabel', 'dst_id'],\n",
      "      dtype='object')\n"
     ]
    }
   ],
   "source": [
    "print(node_feat_join_df.columns)\n",
    "\n",
    "node_feat_join_df = node_feat_join_df.fillna(\"NN\")\n",
    "node_feat_join_df.to_csv('ndatas/node_feat_join_df.csv', sep='\\t', index=0, columns=['node_id', 'node_ori', 'href', 'title', 'comp_name', 'src_id', 'news_date_format', 'risk_context', 'content_merge', 'sentiment_label', 'multilabel', 'dst_id'])"
   ]
  },
  {
   "cell_type": "code",
   "execution_count": 24,
   "metadata": {},
   "outputs": [],
   "source": [
    "\n",
    "dgl_graph_from_nx = dgl.from_networkx(G_nx)\n",
    "\n",
    "save_graphs(\"dglgraphs/news_graph_from_nx\", [dgl_graph_from_nx])\n"
   ]
  },
  {
   "cell_type": "code",
   "execution_count": 25,
   "metadata": {},
   "outputs": [
    {
     "name": "stdout",
     "output_type": "stream",
     "text": [
      "g.number_of_nodes(): 5236463\n",
      "g.number_of_edges(): 13866204\n"
     ]
    }
   ],
   "source": [
    "glist,_ = load_graphs(\"dglgraphs/news_graph_from_nx\")\n",
    "print(\"g.number_of_nodes():\", glist[0].number_of_nodes())\n",
    "print(\"g.number_of_edges():\", glist[0].number_of_edges())"
   ]
  },
  {
   "cell_type": "code",
   "execution_count": null,
   "metadata": {},
   "outputs": [],
   "source": []
  },
  {
   "cell_type": "code",
   "execution_count": null,
   "metadata": {},
   "outputs": [],
   "source": []
  },
  {
   "cell_type": "code",
   "execution_count": null,
   "metadata": {
    "uuid": "1ba56638-1321-41df-8671-8bc7b69d43bd"
   },
   "outputs": [],
   "source": []
  },
  {
   "cell_type": "code",
   "execution_count": null,
   "metadata": {
    "uuid": "dcb27601-fe04-4c64-802e-995d5617b39d"
   },
   "outputs": [],
   "source": []
  },
  {
   "cell_type": "code",
   "execution_count": null,
   "metadata": {
    "uuid": "235b7c97-e3d2-48c5-adfc-c79ac66f10d3"
   },
   "outputs": [],
   "source": []
  },
  {
   "cell_type": "code",
   "execution_count": null,
   "metadata": {
    "uuid": "1365d12e-01f5-4960-8731-7fdaa45851a2"
   },
   "outputs": [],
   "source": []
  },
  {
   "cell_type": "code",
   "execution_count": 38,
   "metadata": {
    "uuid": "c476173d-bf40-49ff-b67d-75122121dace"
   },
   "outputs": [],
   "source": [
    "import torch"
   ]
  },
  {
   "cell_type": "code",
   "execution_count": null,
   "metadata": {
    "uuid": "f733185f-1510-4318-99be-c14e4dbea407"
   },
   "outputs": [],
   "source": []
  },
  {
   "cell_type": "code",
   "execution_count": null,
   "metadata": {
    "uuid": "208a0233-95f2-49f8-9778-2e99bbecd399"
   },
   "outputs": [],
   "source": []
  },
  {
   "cell_type": "code",
   "execution_count": 39,
   "metadata": {
    "uuid": "a4533227-56dc-48ac-84f9-a3175cadebdd"
   },
   "outputs": [],
   "source": [
    "# print(df.columns)\n",
    "# import pickle\n",
    "# ndata_df.to_pickle('ndatas/processed_node_prop.pkl',compression='xz')"
   ]
  },
  {
   "cell_type": "code",
   "execution_count": 40,
   "metadata": {},
   "outputs": [],
   "source": [
    "# new_df = pd.read_pickle('ndatas/processed_node_prop.pkl', 'xz')\n",
    "# # print(new_df)"
   ]
  },
  {
   "cell_type": "code",
   "execution_count": 41,
   "metadata": {},
   "outputs": [
    {
     "ename": "NameError",
     "evalue": "name 'new_df' is not defined",
     "output_type": "error",
     "traceback": [
      "\u001b[0;31m---------------------------------------------------------------------------\u001b[0m",
      "\u001b[0;31mNameError\u001b[0m                                 Traceback (most recent call last)",
      "\u001b[0;32m<ipython-input-41-913cc8ccdc27>\u001b[0m in \u001b[0;36m<module>\u001b[0;34m\u001b[0m\n\u001b[0;32m----> 1\u001b[0;31m \u001b[0mprint\u001b[0m\u001b[0;34m(\u001b[0m\u001b[0mnew_df\u001b[0m\u001b[0;34m)\u001b[0m\u001b[0;34m\u001b[0m\u001b[0;34m\u001b[0m\u001b[0m\n\u001b[0m",
      "\u001b[0;31mNameError\u001b[0m: name 'new_df' is not defined"
     ]
    }
   ],
   "source": [
    "print(new_df)"
   ]
  },
  {
   "cell_type": "code",
   "execution_count": null,
   "metadata": {},
   "outputs": [],
   "source": []
  },
  {
   "cell_type": "code",
   "execution_count": null,
   "metadata": {},
   "outputs": [],
   "source": []
  },
  {
   "cell_type": "code",
   "execution_count": null,
   "metadata": {},
   "outputs": [],
   "source": []
  },
  {
   "cell_type": "code",
   "execution_count": null,
   "metadata": {},
   "outputs": [],
   "source": []
  }
 ],
 "metadata": {
  "kernelspec": {
   "display_name": "Python 3",
   "language": "python",
   "name": "python3"
  },
  "language_info": {
   "codemirror_mode": {
    "name": "ipython",
    "version": 3
   },
   "file_extension": ".py",
   "mimetype": "text/x-python",
   "name": "python",
   "nbconvert_exporter": "python",
   "pygments_lexer": "ipython3",
   "version": "3.6.12"
  }
 },
 "nbformat": 4,
 "nbformat_minor": 4
}
