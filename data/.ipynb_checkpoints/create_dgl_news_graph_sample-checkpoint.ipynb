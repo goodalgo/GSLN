{
 "cells": [
  {
   "cell_type": "code",
   "execution_count": 1,
   "metadata": {
    "uuid": "423951f9-0860-4984-af2b-aa85ac11f41a"
   },
   "outputs": [
    {
     "name": "stderr",
     "output_type": "stream",
     "text": [
      "Using backend: pytorch\n"
     ]
    }
   ],
   "source": [
    "import dgl\n",
    "from dgl.data.utils import load_graphs,save_graphs"
   ]
  },
  {
   "cell_type": "code",
   "execution_count": 2,
   "metadata": {
    "uuid": "5d127a39-d0c7-41d2-8b62-5e9b5f3b3a20"
   },
   "outputs": [
    {
     "name": "stderr",
     "output_type": "stream",
     "text": [
      "/home/pai/lib/python3.6/site-packages/dgl/base.py:45: DGLWarning: Recommend creating graphs by `dgl.graph(data)` instead of `dgl.DGLGraph(data)`.\n",
      "  return warnings.warn(message, category=category, stacklevel=1)\n"
     ]
    }
   ],
   "source": [
    "g = dgl.DGLGraph()"
   ]
  },
  {
   "cell_type": "code",
   "execution_count": 3,
   "metadata": {
    "uuid": "7c59ef34-6f42-47b1-8da6-0c091431ae3d"
   },
   "outputs": [],
   "source": [
    "import pandas as pd\n",
    "import numpy as np"
   ]
  },
  {
   "cell_type": "code",
   "execution_count": 4,
   "metadata": {
    "uuid": "afd1e023-cc32-4b43-9150-bb59f09e16ee"
   },
   "outputs": [],
   "source": [
    "comp_nodes = pd.read_csv('ndatas/news_related_graph_node_prop_norm.csv', header=0, sep='\\t', error_bad_lines=False)\n",
    "comp_edges= pd.read_csv('edatas/news_rela_edge_filter_level_3.csv', header=0, sep='\\t', error_bad_lines=False)[['src_id','dst_id']]\n",
    "\n",
    "# print(edges)"
   ]
  },
  {
   "cell_type": "code",
   "execution_count": 5,
   "metadata": {},
   "outputs": [],
   "source": [
    "comp_nodes[['onecomp_id']] = comp_nodes[['onecomp_id']].astype(str)\n",
    "comp_edges[['src_id', 'dst_id']] = comp_edges[['src_id', 'dst_id']].astype(str)\n",
    "\n",
    "news_df = pd.read_csv('news_tagging_level_parse_7k.csv',sep='\\t', header=0, error_bad_lines=False)\n",
    "news_df[['onecomp_id']] = news_df[['onecomp_id']].astype(str)\n",
    "\n",
    "news_df['news_id'] = news_df['onecomp_id'] + news_df['href']  #'news_id' 唯一定位当前文本节点\n",
    "\n",
    "news_df = news_df.rename(columns={'onecomp_id':'src_id', 'news_id':'dst_id'})\n",
    "\n",
    "news_df = news_df.drop_duplicates(subset=['dst_id'],keep='first',inplace=False)\n",
    "\n",
    "news_edge = news_df[['src_id', 'dst_id']]\n",
    "\n",
    "# print(news_df)"
   ]
  },
  {
   "cell_type": "code",
   "execution_count": 6,
   "metadata": {},
   "outputs": [],
   "source": [
    "import networkx as nx\n",
    "edges_df = pd.concat([comp_edges,news_edge],axis=0)#.sample(n=100)\n",
    "# print(comp_edges.shape)\n",
    "# print(edges_df.shape)\n",
    "\n",
    "G_nx = nx.from_pandas_edgelist(edges_df, 'src_id', 'dst_id', edge_attr=True, create_using=nx.Graph())"
   ]
  },
  {
   "cell_type": "code",
   "execution_count": 17,
   "metadata": {},
   "outputs": [],
   "source": [
    "init_node_list = list(set(news_df.dst_id.tolist())) + list(set(news_df.src_id.tolist()))\n",
    "# init_node_list = list(set(news_df.dst_id.tolist()))  # + list(set(news_df.src_id.tolist()))\n",
    "\n",
    "sample_G_nx = G_nx.subgraph(init_node_list)\n"
   ]
  },
  {
   "cell_type": "code",
   "execution_count": 18,
   "metadata": {
    "uuid": "df8fd2fd-77e4-40c4-bbfe-1bc0823c42f7"
   },
   "outputs": [],
   "source": [
    "node_idx_dict = {}\n",
    "for idx, node in enumerate(sample_G_nx.nodes()):\n",
    "    node_idx_dict[idx] = node\n",
    "#     G_nx.nodes[node]['node_id_ori'] = str(node)\n",
    "\n",
    "\n",
    "node_idx_df = pd.DataFrame.from_dict(node_idx_dict, orient='index', columns= [\"node_ori\"])\n",
    "node_idx_df = node_idx_df.reset_index().rename(columns = {'index':'node_id'})\n",
    "\n",
    "node_feat_join_df = pd.merge(left=node_idx_df, right=news_df, how='left', left_on='node_ori', right_on='dst_id')\n",
    "\n",
    "\n",
    "# all_nodes = G.nodes()\n",
    "# print( all_nodes)\n",
    "\n",
    "# news_nodes_df = news_df[['dst_id', 'content_merge', 'sentiment_label']]\n",
    "\n",
    "# init_node_list = set(news_nodes_df.dst_id.tolist()[:1])\n",
    "\n",
    "# for node in init_node_list:\n",
    "#     ego_graph = nx.ego_graph(G, node, radius=2)\n",
    "#     tmp_edges = ego_graph.edges()\n",
    "\n",
    "\n",
    "\n",
    "# # H = G.subgraph(news_nodes_df.dst_id.tolist()[:10])\n",
    "\n",
    "# import matplotlib.pyplot as plt\n",
    "# # plot to check\n",
    "# nx.draw(H)\n",
    "# plt.show()\n",
    "\n",
    "# def get_neigbors(g, init_nodes, depth=1):\n",
    "#     output = {}\n",
    "#     layers = dict(nx.bfs_successors(g, source=init_nodes, depth_limit=depth))\n",
    "#     nodes = init_nodes\n",
    "#     for i in range(1,depth+1):\n",
    "#         output[i] = []\n",
    "#         for x in nodes:\n",
    "#             output[i].extend(layers.get(x,[]))\n",
    "#         nodes = output[i]\n",
    "#     return output\n",
    "\n",
    "# result = get_neigbors(G, news_nodes_df.dst_id.tolist(), depth=1)\n",
    "\n",
    "# print(result)\n",
    "# # print(comp_news_df)\n",
    "\n",
    "# node_feat_with_news_df = pd.merge(left=nodes, right=comp_news_df, how='left', left_on='onecomp_id', right_on='onecomp_id')\n",
    "\n",
    "# print(node_feat_with_news_df.shape)\n",
    "# # print(node_feat_with_news_df)\n",
    "\n",
    "# effect_node_df = node_feat_with_news_df[~node_feat_with_news_df[\"sentiment_label\"].isna()]\n",
    "# print(effect_node_df.shape)\n"
   ]
  },
  {
   "cell_type": "code",
   "execution_count": 19,
   "metadata": {},
   "outputs": [
    {
     "name": "stdout",
     "output_type": "stream",
     "text": [
      "7028 (7028, 2) (7028, 12)\n"
     ]
    }
   ],
   "source": [
    "#print(sample_G_nx.nodes())\n",
    "print(len(sample_G_nx.nodes()), node_idx_df.shape, node_feat_join_df.shape)"
   ]
  },
  {
   "cell_type": "code",
   "execution_count": 20,
   "metadata": {},
   "outputs": [
    {
     "name": "stdout",
     "output_type": "stream",
     "text": [
      "Index(['node_id', 'node_ori', 'href', 'title', 'comp_name', 'src_id',\n",
      "       'news_date_format', 'risk_context', 'content_merge', 'sentiment_label',\n",
      "       'multilabel', 'dst_id'],\n",
      "      dtype='object')\n",
      "      node_id                                           node_ori  \\\n",
      "6766     6766  1180716030607978355http://szb.qzwb.com/qzwb/ht...   \n",
      "875       875  1180716060712338968http://finance.sina.com.cn/...   \n",
      "4893     4893  1180716040693453677https://www.sogou.com/link?...   \n",
      "3091     3091  1180716046961171813http://www.mzyfz.com/cms/fa...   \n",
      "289       289  1180716009284722993http://www.szcgs.com.cn/tqw...   \n",
      "...       ...                                                ...   \n",
      "2928     2928  1180716023528917023http://rmfyb.chinacourt.org...   \n",
      "2214     2214  1180716021487303288http://stock.finance.sina.c...   \n",
      "5930     5930  1180716022616729516https://www.chinaso.com/lin...   \n",
      "6755     6755  1180716023614210899https://www.chinaipo.com/ip...   \n",
      "1965     1965  1180716022612177321https://www.sogou.com/link?...   \n",
      "\n",
      "                                                   href  \\\n",
      "6766  http://szb.qzwb.com/qzwb/html/2020-04/19/conte...   \n",
      "875   http://finance.sina.com.cn/tech/2020-11-27/doc...   \n",
      "4893  https://www.sogou.com/link?url=hedJjaC291ND72r...   \n",
      "3091  http://www.mzyfz.com/cms/fayuanpingtai/xinwenz...   \n",
      "289   http://www.szcgs.com.cn/tqwbf//2019/1017/40646...   \n",
      "...                                                 ...   \n",
      "2928  http://rmfyb.chinacourt.org/paper/images/2020-...   \n",
      "2214  http://stock.finance.sina.com.cn/stock/go.php/...   \n",
      "5930  https://www.chinaso.com/link?url=cR%2BY5Ulo7B6...   \n",
      "6755           https://www.chinaipo.com/ipo/126539.html   \n",
      "1965  https://www.sogou.com/link?url=DSOYnZeCC_oFmTi...   \n",
      "\n",
      "                                            title       comp_name  \\\n",
      "6766                               债权人线上开会 避免聚集风险      泉州船舶工业有限公司   \n",
      "875       万向信托12起重大诉讼背后：多次踩雷退市股，过度依赖地产业务_新浪科技_新浪网  瑞丽市瑞丽湾旅游开发有限公司   \n",
      "4893                   突然退市!其产品风靡一时!范冰冰、李敏镐等巨星曾代言   武汉市南浦食品有限责任公司   \n",
      "3091  杭州互联网法院发布年度知识产权司法保护十大案例_法院_民主与法制网  国家一类新闻网站  深圳市腾讯计算机系统有限公司   \n",
      "289       违法在禁渔期采捕？深交所向獐子岛下发关注函_苏州市公安局交通警察支队车辆管理所     獐子岛集团股份有限公司   \n",
      "...                                           ...             ...   \n",
      "2928       转 按 揭 引 发 信 用 危 机 ,卖 主 获 一 万 元 精 神 赔 偿    杭州临安神洲电器有限公司   \n",
      "2214            20鸿达兴业scp001未按期兑付本息简评:虽有鸿鹄志 兴业亦难为      鸿达兴业股份有限公司   \n",
      "5930                        众应互联年末爆雷：预计商誉减值计提逾十亿元    浙江亿邦通信科技有限公司   \n",
      "6755                  *ST围海：收到宁波仲裁委员会《裁决书》_A股_资本邦    浙江围海控股集团有限公司   \n",
      "1965               祥源文化案索赔时效只剩六个月 受损股民切勿错过“索赔末班车”    浙江祥源文化股份有限公司   \n",
      "\n",
      "                   src_id  news_date_format  \\\n",
      "6766  1180716030607978355          20200419   \n",
      "875   1180716060712338968          20201127   \n",
      "4893  1180716040693453677          20201121   \n",
      "3091  1180716046961171813          20210314   \n",
      "289   1180716009284722993          20191017   \n",
      "...                   ...               ...   \n",
      "2928  1180716023528917023          20200414   \n",
      "2214  1180716021487303288          20201216   \n",
      "5930  1180716022616729516          20210109   \n",
      "6755  1180716023614210899          20200727   \n",
      "1965  1180716022612177321          20201115   \n",
      "\n",
      "                                           risk_context  \\\n",
      "6766  月15日，惠安法院通过“云会议”模式召开<N>泉州<N>船舶工业<N>有限公司<R>破产<R...   \n",
      "875   5.瑞丽市<N>瑞丽湾旅游<N>开发有限公司是奥维通信(002231.SZ)控股股东，因与华...   \n",
      "4893  限公司、武汉天喔茶庄饮料有限公司、武汉市<N>南浦食品有限责任公司<N>合并破产清算.据公告...   \n",
      "3091  在公布的十大案例中，<N>深圳市<N>腾讯计算机系统<N>有限公司等诉浙江搜道网络技术有限公...   \n",
      "289   子岛立案调查的结果...《事先告知书》显示，<N>獐子岛<N>涉嫌信息披露违法违规一案，已由...   \n",
      "...                                                 ...   \n",
      "2928  年 3 月 25 日依法裁定受理杭州临安<N>神洲电器有限公司<N><R>破产清算<R>一案...   \n",
      "2214  关于办理“20 <N>鸿达兴业<N>scp001”...<N>鸿达兴业<N>集团以氯碱化工和...   \n",
      "5930  z）公告却连环爆雷，12月20日披露了与<N>浙江<N>亿邦通信<N>科技有限公司等的买卖合...   \n",
      "6755  付款义务承担连带清偿责任...如被申请人浙江<N>围海控股<N>集团有限公司、被申请人浙江省...   \n",
      "1965  索赔末班车”...近日,备受关注的股民诉浙江<N>祥源文化<N>股份有限公司<N>(股票简称...   \n",
      "\n",
      "                                          content_merge  sentiment_label  \\\n",
      "6766  债权人线上开会 避免聚集风险^^^本报讯 （记者吴志明 张文璟 通讯员黄钕婷）62家债权人，...                1   \n",
      "875   1.神州长城股份于今年1月被摘牌，成为首家a、b股双退公司。2019年5月其发公告披露公司及...                1   \n",
      "4893  突然退市!其产品风靡一时!范冰冰、李敏镐等巨星曾代言^^^在接下来的几年，天喔国际逐渐发展成...                1   \n",
      "3091  本网讯 （记者 陈和秋）4月26日，杭州互联网法院发布2020年知识产权司法保护十大案例，其...                1   \n",
      "289   10月14日盘前，上市公司獐子岛集团股份有限公司(证券简称：獐子岛002069)披露公告称，...                1   \n",
      "...                                                 ...              ...   \n",
      "2928  转 按 揭 引 发 信 用 危 机 ,卖 主 获 一 万 元 精 神 赔 偿^^^[湖南]双...                1   \n",
      "2214  20鸿达兴业scp001未按期兑付本息简评:虽有鸿鹄志 兴业亦难为^^^20 鸿达兴业scp...                1   \n",
      "5930  众应互联年末爆雷：预计商誉减值计提逾十亿元^^^在2019年接近尾声之际，众应互联（0024...                1   \n",
      "6755  一)被申请人浙江围海控股集团有限公司于本裁决书送达之日起七日内向申请人王重良支付本金亏损以及...                1   \n",
      "1965  祥源文化案索赔时效只剩六个月 受损股民切勿错过“索赔末班车”^^^近日,备受关注的股民诉浙江...                1   \n",
      "\n",
      "               multilabel                                             dst_id  \n",
      "6766  1,1,0,0,0,0,0,0,0,0  1180716030607978355http://szb.qzwb.com/qzwb/ht...  \n",
      "875   1,0,0,0,1,0,0,1,0,1  1180716060712338968http://finance.sina.com.cn/...  \n",
      "4893  1,1,0,0,1,0,0,0,0,0  1180716040693453677https://www.sogou.com/link?...  \n",
      "3091  0,0,0,0,0,0,1,0,0,1  1180716046961171813http://www.mzyfz.com/cms/fa...  \n",
      "289   0,0,0,0,0,0,0,1,0,0  1180716009284722993http://www.szcgs.com.cn/tqw...  \n",
      "...                   ...                                                ...  \n",
      "2928  1,1,0,0,0,0,0,0,0,1  1180716023528917023http://rmfyb.chinacourt.org...  \n",
      "2214  0,0,0,0,1,0,0,0,0,0  1180716021487303288http://stock.finance.sina.c...  \n",
      "5930  0,0,0,0,0,0,1,0,0,0  1180716022616729516https://www.chinaso.com/lin...  \n",
      "6755  0,0,0,0,0,0,0,0,0,1  1180716023614210899https://www.chinaipo.com/ip...  \n",
      "1965  0,0,0,0,0,0,1,1,0,1  1180716022612177321https://www.sogou.com/link?...  \n",
      "\n",
      "[100 rows x 12 columns]\n"
     ]
    }
   ],
   "source": [
    "print(node_feat_join_df.columns)\n",
    "\n",
    "# save_df = node_feat_join_df.fillna(\"2\")\n",
    "save_df = node_feat_join_df.fillna(\"-\")\n",
    "\n",
    "print(save_df.sample(n=100))\n",
    "save_df.to_csv('ndatas/node_sample.csv', sep='\\t', index=0, columns=['node_id', 'node_ori', 'href', 'title', 'comp_name', 'src_id', 'news_date_format', 'risk_context', 'content_merge', 'sentiment_label', 'multilabel', 'dst_id'])"
   ]
  },
  {
   "cell_type": "code",
   "execution_count": 21,
   "metadata": {},
   "outputs": [],
   "source": [
    "\n",
    "sample_graph = dgl.from_networkx(sample_G_nx)\n",
    "\n",
    "save_graphs(\"dglgraphs/sample_graph\", [sample_graph])\n"
   ]
  },
  {
   "cell_type": "code",
   "execution_count": 22,
   "metadata": {},
   "outputs": [
    {
     "name": "stdout",
     "output_type": "stream",
     "text": [
      "g.number_of_nodes(): 7028\n",
      "g.number_of_edges(): 0\n"
     ]
    }
   ],
   "source": [
    "glist,_ = load_graphs(\"dglgraphs/sample_graph\")\n",
    "print(\"g.number_of_nodes():\", glist[0].number_of_nodes())\n",
    "print(\"g.number_of_edges():\", glist[0].number_of_edges())"
   ]
  },
  {
   "cell_type": "code",
   "execution_count": null,
   "metadata": {},
   "outputs": [],
   "source": []
  },
  {
   "cell_type": "code",
   "execution_count": null,
   "metadata": {},
   "outputs": [],
   "source": []
  },
  {
   "cell_type": "code",
   "execution_count": null,
   "metadata": {
    "uuid": "1ba56638-1321-41df-8671-8bc7b69d43bd"
   },
   "outputs": [],
   "source": []
  },
  {
   "cell_type": "code",
   "execution_count": null,
   "metadata": {
    "uuid": "dcb27601-fe04-4c64-802e-995d5617b39d"
   },
   "outputs": [],
   "source": []
  },
  {
   "cell_type": "code",
   "execution_count": null,
   "metadata": {
    "uuid": "235b7c97-e3d2-48c5-adfc-c79ac66f10d3"
   },
   "outputs": [],
   "source": []
  },
  {
   "cell_type": "code",
   "execution_count": null,
   "metadata": {
    "uuid": "1365d12e-01f5-4960-8731-7fdaa45851a2"
   },
   "outputs": [],
   "source": []
  },
  {
   "cell_type": "code",
   "execution_count": 38,
   "metadata": {
    "uuid": "c476173d-bf40-49ff-b67d-75122121dace"
   },
   "outputs": [],
   "source": [
    "import torch"
   ]
  },
  {
   "cell_type": "code",
   "execution_count": null,
   "metadata": {
    "uuid": "f733185f-1510-4318-99be-c14e4dbea407"
   },
   "outputs": [],
   "source": []
  },
  {
   "cell_type": "code",
   "execution_count": null,
   "metadata": {
    "uuid": "208a0233-95f2-49f8-9778-2e99bbecd399"
   },
   "outputs": [],
   "source": []
  },
  {
   "cell_type": "code",
   "execution_count": 39,
   "metadata": {
    "uuid": "a4533227-56dc-48ac-84f9-a3175cadebdd"
   },
   "outputs": [],
   "source": [
    "# print(df.columns)\n",
    "# import pickle\n",
    "# ndata_df.to_pickle('ndatas/processed_node_prop.pkl',compression='xz')"
   ]
  },
  {
   "cell_type": "code",
   "execution_count": 40,
   "metadata": {},
   "outputs": [],
   "source": [
    "# new_df = pd.read_pickle('ndatas/processed_node_prop.pkl', 'xz')\n",
    "# # print(new_df)"
   ]
  },
  {
   "cell_type": "code",
   "execution_count": 41,
   "metadata": {},
   "outputs": [
    {
     "ename": "NameError",
     "evalue": "name 'new_df' is not defined",
     "output_type": "error",
     "traceback": [
      "\u001b[0;31m---------------------------------------------------------------------------\u001b[0m",
      "\u001b[0;31mNameError\u001b[0m                                 Traceback (most recent call last)",
      "\u001b[0;32m<ipython-input-41-913cc8ccdc27>\u001b[0m in \u001b[0;36m<module>\u001b[0;34m\u001b[0m\n\u001b[0;32m----> 1\u001b[0;31m \u001b[0mprint\u001b[0m\u001b[0;34m(\u001b[0m\u001b[0mnew_df\u001b[0m\u001b[0;34m)\u001b[0m\u001b[0;34m\u001b[0m\u001b[0;34m\u001b[0m\u001b[0m\n\u001b[0m",
      "\u001b[0;31mNameError\u001b[0m: name 'new_df' is not defined"
     ]
    }
   ],
   "source": [
    "print(new_df)"
   ]
  },
  {
   "cell_type": "code",
   "execution_count": null,
   "metadata": {},
   "outputs": [],
   "source": []
  },
  {
   "cell_type": "code",
   "execution_count": null,
   "metadata": {},
   "outputs": [],
   "source": []
  },
  {
   "cell_type": "code",
   "execution_count": null,
   "metadata": {},
   "outputs": [],
   "source": []
  },
  {
   "cell_type": "code",
   "execution_count": null,
   "metadata": {},
   "outputs": [],
   "source": []
  }
 ],
 "metadata": {
  "kernelspec": {
   "display_name": "Python 3",
   "language": "python",
   "name": "python3"
  },
  "language_info": {
   "codemirror_mode": {
    "name": "ipython",
    "version": 3
   },
   "file_extension": ".py",
   "mimetype": "text/x-python",
   "name": "python",
   "nbconvert_exporter": "python",
   "pygments_lexer": "ipython3",
   "version": "3.6.12"
  }
 },
 "nbformat": 4,
 "nbformat_minor": 4
}
